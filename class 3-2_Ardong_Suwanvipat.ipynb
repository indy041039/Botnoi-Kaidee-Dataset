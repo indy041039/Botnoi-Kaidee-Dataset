{
 "cells": [
  {
   "cell_type": "markdown",
   "metadata": {},
   "source": [
    "# Botnoi Mini Project : Kaidee Dataset"
   ]
  },
  {
   "cell_type": "code",
   "execution_count": 61,
   "metadata": {},
   "outputs": [],
   "source": [
    "import pandas as pd\n",
    "import numpy as np\n",
    "import matplotlib.pyplot as plt\n",
    "import seaborn as sns\n",
    "import datetime\n",
    "from sklearn.preprocessing import StandardScaler, RobustScaler, MinMaxScaler\n",
    "from sklearn.preprocessing import MultiLabelBinarizer\n",
    "from sklearn.model_selection import cross_val_score"
   ]
  },
  {
   "cell_type": "markdown",
   "metadata": {},
   "source": [
    "- import ข้อมูลจาก train.csv และ test.csv"
   ]
  },
  {
   "cell_type": "code",
   "execution_count": 62,
   "metadata": {},
   "outputs": [],
   "source": [
    "def load_data():\n",
    "    train_df = pd.read_csv('train.csv')\n",
    "    test_df = pd.read_csv('test.csv')\n",
    "    return train_df, test_df"
   ]
  },
  {
   "cell_type": "code",
   "execution_count": 63,
   "metadata": {},
   "outputs": [],
   "source": [
    "train_df, test_df = load_data()"
   ]
  },
  {
   "cell_type": "code",
   "execution_count": 64,
   "metadata": {},
   "outputs": [
    {
     "data": {
      "text/html": [
       "<div>\n",
       "<style scoped>\n",
       "    .dataframe tbody tr th:only-of-type {\n",
       "        vertical-align: middle;\n",
       "    }\n",
       "\n",
       "    .dataframe tbody tr th {\n",
       "        vertical-align: top;\n",
       "    }\n",
       "\n",
       "    .dataframe thead th {\n",
       "        text-align: right;\n",
       "    }\n",
       "</style>\n",
       "<table border=\"1\" class=\"dataframe\">\n",
       "  <thead>\n",
       "    <tr style=\"text-align: right;\">\n",
       "      <th></th>\n",
       "      <th>price</th>\n",
       "      <th>desc</th>\n",
       "      <th>ad_id</th>\n",
       "      <th>location</th>\n",
       "      <th>timestamp</th>\n",
       "      <th>mileage</th>\n",
       "      <th>brand</th>\n",
       "      <th>model</th>\n",
       "      <th>year</th>\n",
       "      <th>fuel</th>\n",
       "      <th>transmission</th>\n",
       "      <th>color</th>\n",
       "      <th>car_type</th>\n",
       "    </tr>\n",
       "  </thead>\n",
       "  <tbody>\n",
       "    <tr>\n",
       "      <th>0</th>\n",
       "      <td>569000</td>\n",
       "      <td>\"เลขไมล์5,700กิโลแท้ 1.3 SP โฉมปัจจุบัน รถ2เดื...</td>\n",
       "      <td>354186401</td>\n",
       "      <td>กรุงเทพมหานคร</td>\n",
       "      <td>1584521455</td>\n",
       "      <td>5700</td>\n",
       "      <td>Mazda</td>\n",
       "      <td>Mazda2 Sport</td>\n",
       "      <td>2020</td>\n",
       "      <td>เบนซิน</td>\n",
       "      <td>เกียร์อัตโนมัติ</td>\n",
       "      <td>เทา</td>\n",
       "      <td>รถเก๋ง</td>\n",
       "    </tr>\n",
       "    <tr>\n",
       "      <th>1</th>\n",
       "      <td>1150000</td>\n",
       "      <td>ขาย Chevrolet c10 ปี 1965 รถแท้ ขับขวา พร้อมโอ...</td>\n",
       "      <td>356227846</td>\n",
       "      <td>กรุงเทพมหานคร</td>\n",
       "      <td>1591021387</td>\n",
       "      <td>1234</td>\n",
       "      <td>Chevrolet</td>\n",
       "      <td>รุ่นอื่นๆ</td>\n",
       "      <td>1965</td>\n",
       "      <td>เบนซิน</td>\n",
       "      <td>เกียร์อัตโนมัติ</td>\n",
       "      <td>แดง</td>\n",
       "      <td>รถอื่น ๆ</td>\n",
       "    </tr>\n",
       "    <tr>\n",
       "      <th>2</th>\n",
       "      <td>799000</td>\n",
       "      <td>📢มาแว้วว... ลค.ที่ชอบรถสีขาว​ ใสๆเลย\\nใครเร็วก...</td>\n",
       "      <td>356055202</td>\n",
       "      <td>นนทบุรี</td>\n",
       "      <td>1590502642</td>\n",
       "      <td>100000</td>\n",
       "      <td>Mitsubishi</td>\n",
       "      <td>Pajero Sport</td>\n",
       "      <td>2016</td>\n",
       "      <td>ดีเซล</td>\n",
       "      <td>เกียร์อัตโนมัติ</td>\n",
       "      <td>ขาว</td>\n",
       "      <td>รถ MPV / SUV</td>\n",
       "    </tr>\n",
       "    <tr>\n",
       "      <th>3</th>\n",
       "      <td>429000</td>\n",
       "      <td>รหัส 130/v36\\n2010 toyota CAMRY 2.4 hybrid nav...</td>\n",
       "      <td>356169430</td>\n",
       "      <td>กรุงเทพมหานคร</td>\n",
       "      <td>1590844871</td>\n",
       "      <td>184921</td>\n",
       "      <td>Toyota</td>\n",
       "      <td>Camry</td>\n",
       "      <td>2010</td>\n",
       "      <td>ไฮบริด</td>\n",
       "      <td>เกียร์อัตโนมัติ</td>\n",
       "      <td>ดำ</td>\n",
       "      <td>รถเก๋ง</td>\n",
       "    </tr>\n",
       "    <tr>\n",
       "      <th>4</th>\n",
       "      <td>268000</td>\n",
       "      <td>เครื่อง 1.2 E โฉมไฟใหม่ พ.พาวเวอร์ ก.ไฟฟ้า ซทล...</td>\n",
       "      <td>354415016</td>\n",
       "      <td>กรุงเทพมหานคร</td>\n",
       "      <td>1585546785</td>\n",
       "      <td>103000</td>\n",
       "      <td>Nissan</td>\n",
       "      <td>Almera</td>\n",
       "      <td>2016</td>\n",
       "      <td>เบนซิน</td>\n",
       "      <td>เกียร์อัตโนมัติ</td>\n",
       "      <td>ขาว</td>\n",
       "      <td>รถเก๋ง</td>\n",
       "    </tr>\n",
       "  </tbody>\n",
       "</table>\n",
       "</div>"
      ],
      "text/plain": [
       "     price                                               desc      ad_id  \\\n",
       "0   569000  \"เลขไมล์5,700กิโลแท้ 1.3 SP โฉมปัจจุบัน รถ2เดื...  354186401   \n",
       "1  1150000  ขาย Chevrolet c10 ปี 1965 รถแท้ ขับขวา พร้อมโอ...  356227846   \n",
       "2   799000  📢มาแว้วว... ลค.ที่ชอบรถสีขาว​ ใสๆเลย\\nใครเร็วก...  356055202   \n",
       "3   429000  รหัส 130/v36\\n2010 toyota CAMRY 2.4 hybrid nav...  356169430   \n",
       "4   268000  เครื่อง 1.2 E โฉมไฟใหม่ พ.พาวเวอร์ ก.ไฟฟ้า ซทล...  354415016   \n",
       "\n",
       "        location   timestamp mileage       brand         model  year    fuel  \\\n",
       "0  กรุงเทพมหานคร  1584521455    5700       Mazda  Mazda2 Sport  2020  เบนซิน   \n",
       "1  กรุงเทพมหานคร  1591021387    1234   Chevrolet     รุ่นอื่นๆ  1965  เบนซิน   \n",
       "2        นนทบุรี  1590502642  100000  Mitsubishi  Pajero Sport  2016   ดีเซล   \n",
       "3  กรุงเทพมหานคร  1590844871  184921      Toyota         Camry  2010  ไฮบริด   \n",
       "4  กรุงเทพมหานคร  1585546785  103000      Nissan        Almera  2016  เบนซิน   \n",
       "\n",
       "      transmission color      car_type  \n",
       "0  เกียร์อัตโนมัติ   เทา        รถเก๋ง  \n",
       "1  เกียร์อัตโนมัติ   แดง      รถอื่น ๆ  \n",
       "2  เกียร์อัตโนมัติ   ขาว  รถ MPV / SUV  \n",
       "3  เกียร์อัตโนมัติ    ดำ        รถเก๋ง  \n",
       "4  เกียร์อัตโนมัติ   ขาว        รถเก๋ง  "
      ]
     },
     "execution_count": 64,
     "metadata": {},
     "output_type": "execute_result"
    }
   ],
   "source": [
    "train_df.head()"
   ]
  },
  {
   "cell_type": "code",
   "execution_count": 65,
   "metadata": {},
   "outputs": [
    {
     "data": {
      "text/html": [
       "<div>\n",
       "<style scoped>\n",
       "    .dataframe tbody tr th:only-of-type {\n",
       "        vertical-align: middle;\n",
       "    }\n",
       "\n",
       "    .dataframe tbody tr th {\n",
       "        vertical-align: top;\n",
       "    }\n",
       "\n",
       "    .dataframe thead th {\n",
       "        text-align: right;\n",
       "    }\n",
       "</style>\n",
       "<table border=\"1\" class=\"dataframe\">\n",
       "  <thead>\n",
       "    <tr style=\"text-align: right;\">\n",
       "      <th></th>\n",
       "      <th>price</th>\n",
       "      <th>desc</th>\n",
       "      <th>ad_id</th>\n",
       "      <th>location</th>\n",
       "      <th>timestamp</th>\n",
       "      <th>mileage</th>\n",
       "      <th>brand</th>\n",
       "      <th>model</th>\n",
       "      <th>year</th>\n",
       "      <th>fuel</th>\n",
       "      <th>transmission</th>\n",
       "      <th>color</th>\n",
       "      <th>car_type</th>\n",
       "    </tr>\n",
       "  </thead>\n",
       "  <tbody>\n",
       "    <tr>\n",
       "      <th>0</th>\n",
       "      <td>549000</td>\n",
       "      <td>Option: เครื่องเล่น CD, USB, กระจกไฟฟ้า, เซ็นท...</td>\n",
       "      <td>354696215</td>\n",
       "      <td>นนทบุรี</td>\n",
       "      <td>1586421506</td>\n",
       "      <td>31200</td>\n",
       "      <td>Ford</td>\n",
       "      <td>Ranger</td>\n",
       "      <td>2017</td>\n",
       "      <td>ดีเซล</td>\n",
       "      <td>เกียร์อัตโนมัติ</td>\n",
       "      <td>ดำ</td>\n",
       "      <td>รถกระบะ</td>\n",
       "    </tr>\n",
       "    <tr>\n",
       "      <th>1</th>\n",
       "      <td>358000</td>\n",
       "      <td>ขายรถบ้าน 2006 ISUZU MU-7 แรงๆๆ (เงินสดลดได้)\\...</td>\n",
       "      <td>354237756</td>\n",
       "      <td>สมุทรปราการ</td>\n",
       "      <td>1584748598</td>\n",
       "      <td>267000</td>\n",
       "      <td>Isuzu</td>\n",
       "      <td>MU-7</td>\n",
       "      <td>2006</td>\n",
       "      <td>ดีเซล</td>\n",
       "      <td>เกียร์อัตโนมัติ</td>\n",
       "      <td>บรอนซ์เงิน</td>\n",
       "      <td>รถ MPV / SUV</td>\n",
       "    </tr>\n",
       "    <tr>\n",
       "      <th>2</th>\n",
       "      <td>529000</td>\n",
       "      <td>🔥แคปเปิดได้ 🔥รุ่นใหม่ล่าสุด 🔥แรง ประหยัด เครื่...</td>\n",
       "      <td>352545121</td>\n",
       "      <td>กรุงเทพมหานคร</td>\n",
       "      <td>1577353632</td>\n",
       "      <td>8</td>\n",
       "      <td>Toyota</td>\n",
       "      <td>Hilux Revo</td>\n",
       "      <td>2019</td>\n",
       "      <td>ดีเซล</td>\n",
       "      <td>เกียร์ธรรมดา</td>\n",
       "      <td>ขาว</td>\n",
       "      <td>รถกระบะ</td>\n",
       "    </tr>\n",
       "    <tr>\n",
       "      <th>3</th>\n",
       "      <td>1135000</td>\n",
       "      <td>TOYOTA NEW FORTUNER 2.8 V 4WD SUV AUTO ปี 2015...</td>\n",
       "      <td>356194406</td>\n",
       "      <td>เชียงใหม่</td>\n",
       "      <td>1590918420</td>\n",
       "      <td>100000</td>\n",
       "      <td>Toyota</td>\n",
       "      <td>Fortuner</td>\n",
       "      <td>2015</td>\n",
       "      <td>ดีเซล</td>\n",
       "      <td>เกียร์อัตโนมัติ</td>\n",
       "      <td>ขาว</td>\n",
       "      <td>รถ MPV / SUV</td>\n",
       "    </tr>\n",
       "    <tr>\n",
       "      <th>4</th>\n",
       "      <td>469000</td>\n",
       "      <td>💢 ออกรถ 999 บ. 💢\\n#ฟรี#ออกรถพร้อมประกันตัวรถ 1...</td>\n",
       "      <td>355315874</td>\n",
       "      <td>นนทบุรี</td>\n",
       "      <td>1588235606</td>\n",
       "      <td>NaN</td>\n",
       "      <td>Toyota</td>\n",
       "      <td>Hilux Vigo</td>\n",
       "      <td>2015</td>\n",
       "      <td>ดีเซล</td>\n",
       "      <td>เกียร์ธรรมดา</td>\n",
       "      <td>เทา</td>\n",
       "      <td>รถกระบะ</td>\n",
       "    </tr>\n",
       "  </tbody>\n",
       "</table>\n",
       "</div>"
      ],
      "text/plain": [
       "     price                                               desc      ad_id  \\\n",
       "0   549000  Option: เครื่องเล่น CD, USB, กระจกไฟฟ้า, เซ็นท...  354696215   \n",
       "1   358000  ขายรถบ้าน 2006 ISUZU MU-7 แรงๆๆ (เงินสดลดได้)\\...  354237756   \n",
       "2   529000  🔥แคปเปิดได้ 🔥รุ่นใหม่ล่าสุด 🔥แรง ประหยัด เครื่...  352545121   \n",
       "3  1135000  TOYOTA NEW FORTUNER 2.8 V 4WD SUV AUTO ปี 2015...  356194406   \n",
       "4   469000  💢 ออกรถ 999 บ. 💢\\n#ฟรี#ออกรถพร้อมประกันตัวรถ 1...  355315874   \n",
       "\n",
       "        location   timestamp mileage   brand       model  year   fuel  \\\n",
       "0        นนทบุรี  1586421506   31200    Ford      Ranger  2017  ดีเซล   \n",
       "1    สมุทรปราการ  1584748598  267000   Isuzu        MU-7  2006  ดีเซล   \n",
       "2  กรุงเทพมหานคร  1577353632       8  Toyota  Hilux Revo  2019  ดีเซล   \n",
       "3      เชียงใหม่  1590918420  100000  Toyota    Fortuner  2015  ดีเซล   \n",
       "4        นนทบุรี  1588235606     NaN  Toyota  Hilux Vigo  2015  ดีเซล   \n",
       "\n",
       "      transmission       color      car_type  \n",
       "0  เกียร์อัตโนมัติ          ดำ       รถกระบะ  \n",
       "1  เกียร์อัตโนมัติ  บรอนซ์เงิน  รถ MPV / SUV  \n",
       "2     เกียร์ธรรมดา         ขาว       รถกระบะ  \n",
       "3  เกียร์อัตโนมัติ         ขาว  รถ MPV / SUV  \n",
       "4     เกียร์ธรรมดา         เทา       รถกระบะ  "
      ]
     },
     "execution_count": 65,
     "metadata": {},
     "output_type": "execute_result"
    }
   ],
   "source": [
    "test_df.head()"
   ]
  },
  {
   "cell_type": "code",
   "execution_count": 66,
   "metadata": {},
   "outputs": [
    {
     "name": "stdout",
     "output_type": "stream",
     "text": [
      "<class 'pandas.core.frame.DataFrame'>\n",
      "RangeIndex: 7103 entries, 0 to 7102\n",
      "Data columns (total 13 columns):\n",
      " #   Column        Non-Null Count  Dtype \n",
      "---  ------        --------------  ----- \n",
      " 0   price         7103 non-null   int64 \n",
      " 1   desc          6932 non-null   object\n",
      " 2   ad_id         7103 non-null   int64 \n",
      " 3   location      7103 non-null   object\n",
      " 4   timestamp     7103 non-null   int64 \n",
      " 5   mileage       5441 non-null   object\n",
      " 6   brand         7103 non-null   object\n",
      " 7   model         7103 non-null   object\n",
      " 8   year          7103 non-null   int64 \n",
      " 9   fuel          7103 non-null   object\n",
      " 10  transmission  6890 non-null   object\n",
      " 11  color         6848 non-null   object\n",
      " 12  car_type      7103 non-null   object\n",
      "dtypes: int64(4), object(9)\n",
      "memory usage: 721.5+ KB\n"
     ]
    }
   ],
   "source": [
    "train_df.info()"
   ]
  },
  {
   "cell_type": "code",
   "execution_count": 67,
   "metadata": {},
   "outputs": [
    {
     "data": {
      "text/plain": [
       "price              0\n",
       "desc             171\n",
       "ad_id              0\n",
       "location           0\n",
       "timestamp          0\n",
       "mileage         1662\n",
       "brand              0\n",
       "model              0\n",
       "year               0\n",
       "fuel               0\n",
       "transmission     213\n",
       "color            255\n",
       "car_type           0\n",
       "dtype: int64"
      ]
     },
     "execution_count": 67,
     "metadata": {},
     "output_type": "execute_result"
    }
   ],
   "source": [
    "train_df.isna().sum()"
   ]
  },
  {
   "cell_type": "markdown",
   "metadata": {},
   "source": [
    "จากข้อมูลพบว่า\n",
    "- ประเภทข้อมูล mileage เป็น object ต้องเปลี่ยนเป็น int\n",
    "- ประเภทข้อมูล timestamp เป็น int ต้องเปลี่ยนเป็น datetime\n",
    "- แถวที่มี Missing Values ได้แก้ desc, mileage, transmission และ color"
   ]
  },
  {
   "cell_type": "code",
   "execution_count": 68,
   "metadata": {},
   "outputs": [],
   "source": [
    "def clean_data(df):\n",
    "    clean = df.copy()  \n",
    "    transmission_mode = clean['transmission'].mode()[0]\n",
    "    color_mode = clean['color'].mode()[0]\n",
    "    clean['desc'] = clean['desc'].fillna('')     \n",
    "    clean['transmission'] = clean['transmission'].fillna(transmission_mode)\n",
    "    clean['color'] = clean['color'].fillna(color_mode)\n",
    "    return clean"
   ]
  },
  {
   "cell_type": "code",
   "execution_count": 69,
   "metadata": {},
   "outputs": [],
   "source": [
    "train_data = clean_data(train_df)\n",
    "test_data = clean_data(test_df)"
   ]
  },
  {
   "cell_type": "markdown",
   "metadata": {},
   "source": [
    "- ข้อมูล transmission, color แทน missing values ด้วยค่า mode\n",
    "- ข้อูมล desc แทน missing values ด้วย ' '"
   ]
  },
  {
   "cell_type": "code",
   "execution_count": 70,
   "metadata": {},
   "outputs": [],
   "source": [
    "def to_timestamp(df):\n",
    "    time = df.copy()\n",
    "    time['timestamp'] = time['timestamp'].apply(lambda x: datetime.datetime.fromtimestamp(x))\n",
    "    return time"
   ]
  },
  {
   "cell_type": "code",
   "execution_count": 71,
   "metadata": {},
   "outputs": [],
   "source": [
    "train_data = to_timestamp(train_data)\n",
    "test_data = to_timestamp(test_data)"
   ]
  },
  {
   "cell_type": "markdown",
   "metadata": {},
   "source": [
    "- เปลี่ยนประเภทของข้อมูลของ timestamp จาก int เป็น datetime\n"
   ]
  },
  {
   "cell_type": "code",
   "execution_count": 72,
   "metadata": {},
   "outputs": [],
   "source": [
    "def clean_mileage_for_train(df):\n",
    "    clean_mile = df.copy()\n",
    "    def fix_(x):\n",
    "        try:\n",
    "            x = int(x)\n",
    "        except:\n",
    "            x = np.nan\n",
    "        return x\n",
    "    clean_mile['mileage'] = clean_mile['mileage'].apply(lambda x: fix_(x))\n",
    "    clean_mile['mileage'] = clean_mile['mileage'].fillna(clean_mile['mileage'].mode()[0])\n",
    "    q1 = clean_mile['mileage'].quantile(0.25)\n",
    "    q3 = clean_mile['mileage'].quantile(0.75)\n",
    "    IQR = q3-q1\n",
    "    upper_limit = q3+1.5*IQR\n",
    "    lower_limit = q1-1.5*IQR\n",
    "    outliers = (clean_mile['mileage']>upper_limit) | (clean_mile['mileage']<lower_limit)\n",
    "    clean_mile[outliers]['mileage'] = clean_mile['mileage'].mode()[0]\n",
    "    return clean_mile"
   ]
  },
  {
   "cell_type": "code",
   "execution_count": 73,
   "metadata": {},
   "outputs": [],
   "source": [
    "def clean_mileage_for_test(df):\n",
    "    clean_mile = df.copy()\n",
    "    def fix_(x):\n",
    "        try:\n",
    "            x = int(x)\n",
    "        except:\n",
    "            x = np.nan\n",
    "        return x\n",
    "    clean_mile['mileage'] = clean_mile['mileage'].apply(lambda x: fix_(x))\n",
    "    clean_mile['mileage'] = clean_mile['mileage'].fillna(clean_mile['mileage'].mode()[0])\n",
    "    return clean_mile"
   ]
  },
  {
   "cell_type": "code",
   "execution_count": 74,
   "metadata": {},
   "outputs": [
    {
     "name": "stderr",
     "output_type": "stream",
     "text": [
      "C:\\Users\\ASUS\\anaconda3\\lib\\site-packages\\ipykernel_launcher.py:17: SettingWithCopyWarning: \n",
      "A value is trying to be set on a copy of a slice from a DataFrame.\n",
      "Try using .loc[row_indexer,col_indexer] = value instead\n",
      "\n",
      "See the caveats in the documentation: https://pandas.pydata.org/pandas-docs/stable/user_guide/indexing.html#returning-a-view-versus-a-copy\n"
     ]
    }
   ],
   "source": [
    "train_data = clean_mileage_for_train(train_data)\n",
    "test_data = clean_mileage_for_train(test_data)"
   ]
  },
  {
   "cell_type": "markdown",
   "metadata": {},
   "source": [
    "- สำหรับ train data : เปลี่ยนประเภทข้อมูล mileage เป็น int และแทน missing values ด้วยค่า mode และแทนค่า outlier ด้วย mode\n",
    "- สำหรับ test data : เปลี่ยนประเภทข้อมูล mileage เป็น int และแทน missing values ด้วยค่า mode"
   ]
  },
  {
   "cell_type": "markdown",
   "metadata": {},
   "source": [
    "# Feature Extraction"
   ]
  },
  {
   "cell_type": "code",
   "execution_count": 75,
   "metadata": {},
   "outputs": [],
   "source": [
    "def extract_feature(df):\n",
    "    feat = df.copy()\n",
    "    # TIMESTAMP_YEAR\n",
    "    feat['timestamp_year'] = feat['timestamp'].apply(lambda x: x.year)\n",
    "    # CAR_AGE\n",
    "    feat['age'] = feat['timestamp_year'] - feat['year']\n",
    "    feat = feat[feat['age']>0]\n",
    "    # DESCRIPTION_LENGTH\n",
    "    feat['length_desc'] = feat['desc'].apply(lambda x: (len(str(x))))\n",
    "    # MILEAGE PER YEAR\n",
    "    feat['mileage_per_year'] = feat['mileage']/feat['age']\n",
    "    feat['mileage_per_year'] = feat['mileage_per_year'].apply(lambda x: 0 if (x==np.inf) else x).fillna(0)\n",
    "    # LOCATION\n",
    "    def sort_location(x):\n",
    "        if x not in ['กรุงเทพมหานคร', 'นนทบุรี', 'ชลบุรี', 'เชียงใหม่', 'ปทุมธานี', 'สมุทรปราการ']:\n",
    "            x = 'Other City'\n",
    "        return x\n",
    "    feat['location'] = feat['location'].apply(lambda x: sort_location(x))\n",
    "    # COLOR\n",
    "    def fix_color(x):\n",
    "        if x in ['ครีม','ชมพู']:\n",
    "            x = feat['color'].mode()[0]\n",
    "        return x\n",
    "    feat['color'] = feat['color'].apply(lambda x: fix_color(x))\n",
    "    return feat"
   ]
  },
  {
   "cell_type": "markdown",
   "metadata": {},
   "source": [
    "เพิ่ม feature ใหม่ ได้แก่\n",
    "- timestamp_year : ปีที่ขายรถ\n",
    "- age : อายุของรถ คิดจาก timestamp_year - year และ drop แถวที่อายุของรถติดลบ\n",
    "- length_desc : จำนวนตัวอักษรใน desc\n",
    "- mileage_per_year : mileage ต่อปี คิดจาก mileage/age\n",
    "\n",
    "ปรับเปลี่ยน feature เดิม ได้แก่\n",
    "- location : แบ่งกลุ่มเป็น กรุงเทพมหานคร, นนทบุรี, ชลบุรี, เชียงใหม่, ปทุมธานี, สมุทรปราการ และ other city\n",
    "- color : เปลี่ยนสีครีม, ชมพูให้เป็นค่า mode"
   ]
  },
  {
   "cell_type": "code",
   "execution_count": 76,
   "metadata": {},
   "outputs": [],
   "source": [
    "train_feature = extract_feature(train_data)\n",
    "test_feature = extract_feature(test_data)"
   ]
  },
  {
   "cell_type": "code",
   "execution_count": 77,
   "metadata": {},
   "outputs": [],
   "source": [
    "#MODEL_SCORE\n",
    "scaler = StandardScaler()\n",
    "scaled_score = scaler.fit_transform(train_df.groupby('model').mean()['price'].values.reshape(-1, 1)).ravel()\n",
    "model_score = pd.DataFrame()\n",
    "model_score['model'] = train_df.groupby('model').mean()['price'].index\n",
    "model_score['score2'] = scaled_score\n",
    "# MERGE BRAND SCORE\n",
    "train_feature = pd.merge(train_feature, model_score, how='inner')\n",
    "test_feature = pd.merge(test_feature, model_score, how='inner')"
   ]
  },
  {
   "cell_type": "markdown",
   "metadata": {},
   "source": [
    "- สร้าง dataframe ชื่อ model_score และคำนวณค่าเฉลี่ยของ price ของรถแต่ละ model และ merge เข้ากับ train_feature"
   ]
  },
  {
   "cell_type": "code",
   "execution_count": 78,
   "metadata": {},
   "outputs": [],
   "source": [
    "#BRAND_SCORE\n",
    "scaler = StandardScaler()\n",
    "scaled_score = scaler.fit_transform(train_df.groupby('brand').mean()['price'].values.reshape(-1, 1)).ravel()\n",
    "brand_score = pd.DataFrame()\n",
    "brand_score['brand'] = train_df.groupby('brand').mean()['price'].index\n",
    "brand_score['score'] = scaled_score\n",
    "# MERGE BRAND SCORE\n",
    "train_feature = pd.merge(train_feature, brand_score, how='inner')\n",
    "test_feature = pd.merge(test_feature, brand_score, how='inner')"
   ]
  },
  {
   "cell_type": "markdown",
   "metadata": {},
   "source": [
    "- สร้าง dataframe ชื่อ brand_score และคำนวณค่าเฉลี่ยของ price ของรถแต่ละ model และ merge เข้ากับ train_feature"
   ]
  },
  {
   "cell_type": "code",
   "execution_count": 79,
   "metadata": {
    "scrolled": true
   },
   "outputs": [],
   "source": [
    "# NORMALIZE DATA\n",
    "scaler = StandardScaler()\n",
    "train_feature[['mileage','age','mileage_per_year','length_desc']] = scaler.fit_transform(train_feature[['mileage','age','mileage_per_year','length_desc']])\n",
    "test_feature[['mileage','age','mileage_per_year','length_desc']] = scaler.transform(test_feature[['mileage','age','mileage_per_year','length_desc']])"
   ]
  },
  {
   "cell_type": "markdown",
   "metadata": {},
   "source": [
    "- Normalize data"
   ]
  },
  {
   "cell_type": "code",
   "execution_count": 80,
   "metadata": {},
   "outputs": [],
   "source": [
    "def get_feature(df, categorical_data, numerical_data):\n",
    "    get_feat = df.copy()\n",
    "    get_feat = get_feat[numerical_data + categorical_data]\n",
    "    #CATEGORICAL DATA\n",
    "    mlb = MultiLabelBinarizer() \n",
    "    fuel_col = pd.DataFrame(mlb.fit_transform(s.split(' + ') for s in get_feat['fuel']), columns=['fuel_1','fuel_2','fuel_3','fuel_4','fuel_5'])\n",
    "    get_feat = pd.concat([get_feat, fuel_col], axis=1).drop('fuel', axis=1)\n",
    "    get_feat = pd.get_dummies(get_feat, columns=categorical_data[:-1])\n",
    "    return get_feat"
   ]
  },
  {
   "cell_type": "markdown",
   "metadata": {},
   "source": [
    "- เลือก feature ที่ต้องการใช้ train model"
   ]
  },
  {
   "cell_type": "code",
   "execution_count": 81,
   "metadata": {
    "scrolled": true
   },
   "outputs": [],
   "source": [
    "categorical_data = ['location','car_type','brand','transmission','color','fuel']\n",
    "numerical_data = ['price','mileage','mileage_per_year','age','length_desc','score','score2']\n",
    "train_feature_ = get_feature(train_feature, categorical_data, numerical_data)\n",
    "test_feature_ = get_feature(test_feature, categorical_data, numerical_data)"
   ]
  },
  {
   "cell_type": "markdown",
   "metadata": {},
   "source": [
    "# Train and Evaluate Model"
   ]
  },
  {
   "cell_type": "code",
   "execution_count": 82,
   "metadata": {},
   "outputs": [],
   "source": [
    "from sklearn.model_selection import train_test_split\n",
    "from sklearn.ensemble import GradientBoostingRegressor, RandomForestRegressor\n",
    "from sklearn.preprocessing import MinMaxScaler\n",
    "from sklearn.metrics import mean_squared_error, r2_score\n",
    "from sklearn.model_selection import cross_val_score, GridSearchCV\n",
    "from sklearn.linear_model import LinearRegression"
   ]
  },
  {
   "cell_type": "code",
   "execution_count": 83,
   "metadata": {},
   "outputs": [],
   "source": [
    "X = train_feature_.drop('price', axis=1)\n",
    "y = train_feature_['price']\n",
    "X_train, X_val, y_train, y_val = train_test_split(X, y, test_size=0.2, random_state=100)"
   ]
  },
  {
   "cell_type": "code",
   "execution_count": 84,
   "metadata": {},
   "outputs": [],
   "source": [
    "X_test = test_feature_.drop('price', axis=1)\n",
    "y_test = test_feature_['price']"
   ]
  },
  {
   "cell_type": "markdown",
   "metadata": {},
   "source": [
    "แบ่งข้อมูลออกเป็น 3 ส่วน\n",
    "- train : สำหรับ train model\n",
    "- validation : สำหรับประเมินค่า MSE, R-Squared\n",
    "- test : สำหรับใช้งานจริง"
   ]
  },
  {
   "cell_type": "code",
   "execution_count": 85,
   "metadata": {},
   "outputs": [],
   "source": [
    "def train_model(X_train, y_train, learning_rate, n_estimators, max_depth):\n",
    "    model =GradientBoostingRegressor(random_state=0, learning_rate=learning_rate, n_estimators=n_estimators, max_depth=max_depth)\n",
    "    model.fit(X_train, y_train)\n",
    "    return model"
   ]
  },
  {
   "cell_type": "markdown",
   "metadata": {},
   "source": [
    "- train โดยใช้ Gradient Boosting Regressor ปรับ Hyperparameter 3 ตัว ได้แก้ learning rate, n_estimators, max_depth"
   ]
  },
  {
   "cell_type": "code",
   "execution_count": 86,
   "metadata": {},
   "outputs": [],
   "source": [
    "model = train_model(X_train, y_train,learning_rate=0.1, n_estimators=100, max_depth=7)\n",
    "prediction = model.predict(X_val)"
   ]
  },
  {
   "cell_type": "code",
   "execution_count": 87,
   "metadata": {},
   "outputs": [],
   "source": [
    "def eval_acc(y_val, prediction):\n",
    "    acc = mean_squared_error(y_val, prediction)\n",
    "    acc2 = r2_score(y_val, prediction)\n",
    "    return (acc, acc2)"
   ]
  },
  {
   "cell_type": "code",
   "execution_count": 88,
   "metadata": {},
   "outputs": [],
   "source": [
    "def pipeline(learning_rate=0.1, n_estimators=100, max_depth=7):\n",
    "    model = train_model(X_train, y_train, learning_rate, n_estimators, max_depth)\n",
    "    prediction = model.predict(X_val)\n",
    "    acc = eval_acc(y_val, prediction)\n",
    "    model2 = train_model(X, y, learning_rate, n_estimators, max_depth)\n",
    "    prediction = model.predict(X_test)\n",
    "    acc2 = eval_acc(y_test, prediction)\n",
    "    return acc, acc2, model, model2, prediction"
   ]
  },
  {
   "cell_type": "code",
   "execution_count": 89,
   "metadata": {},
   "outputs": [
    {
     "name": "stdout",
     "output_type": "stream",
     "text": [
      "Evaluate Validation Dataset\n",
      "MSE:  56171349979.0781\n",
      "R-Squared:  0.8816087254971833\n",
      "-----------------------------------------------\n",
      "Evaluate Test Dataset\n",
      "MSE:  55092689892.11596\n",
      "R-Squared:  0.8272322150360776\n"
     ]
    }
   ],
   "source": [
    "acc, acc2, model, model2, prediction = pipeline(learning_rate=0.1, n_estimators=100, max_depth=7)\n",
    "print('Evaluate Validation Dataset')\n",
    "print('MSE: ', (acc[0]))\n",
    "print('R-Squared: ', acc[1])\n",
    "print('-----------------------------------------------')\n",
    "print('Evaluate Test Dataset')\n",
    "print('MSE: ', (acc2[0]))\n",
    "print('R-Squared: ', acc2[1])"
   ]
  },
  {
   "cell_type": "code",
   "execution_count": 90,
   "metadata": {},
   "outputs": [
    {
     "data": {
      "text/html": [
       "<div>\n",
       "<style scoped>\n",
       "    .dataframe tbody tr th:only-of-type {\n",
       "        vertical-align: middle;\n",
       "    }\n",
       "\n",
       "    .dataframe tbody tr th {\n",
       "        vertical-align: top;\n",
       "    }\n",
       "\n",
       "    .dataframe thead th {\n",
       "        text-align: right;\n",
       "    }\n",
       "</style>\n",
       "<table border=\"1\" class=\"dataframe\">\n",
       "  <thead>\n",
       "    <tr style=\"text-align: right;\">\n",
       "      <th></th>\n",
       "      <th>feature</th>\n",
       "      <th>importance</th>\n",
       "    </tr>\n",
       "  </thead>\n",
       "  <tbody>\n",
       "    <tr>\n",
       "      <th>5</th>\n",
       "      <td>score2</td>\n",
       "      <td>0.583765</td>\n",
       "    </tr>\n",
       "    <tr>\n",
       "      <th>59</th>\n",
       "      <td>color_เขียว</td>\n",
       "      <td>0.112316</td>\n",
       "    </tr>\n",
       "    <tr>\n",
       "      <th>2</th>\n",
       "      <td>age</td>\n",
       "      <td>0.0947726</td>\n",
       "    </tr>\n",
       "    <tr>\n",
       "      <th>4</th>\n",
       "      <td>score</td>\n",
       "      <td>0.0586141</td>\n",
       "    </tr>\n",
       "    <tr>\n",
       "      <th>3</th>\n",
       "      <td>length_desc</td>\n",
       "      <td>0.0524003</td>\n",
       "    </tr>\n",
       "    <tr>\n",
       "      <th>0</th>\n",
       "      <td>mileage</td>\n",
       "      <td>0.0310862</td>\n",
       "    </tr>\n",
       "    <tr>\n",
       "      <th>40</th>\n",
       "      <td>brand_Porsche</td>\n",
       "      <td>0.023697</td>\n",
       "    </tr>\n",
       "    <tr>\n",
       "      <th>1</th>\n",
       "      <td>mileage_per_year</td>\n",
       "      <td>0.0147567</td>\n",
       "    </tr>\n",
       "    <tr>\n",
       "      <th>9</th>\n",
       "      <td>fuel_4</td>\n",
       "      <td>0.0056024</td>\n",
       "    </tr>\n",
       "    <tr>\n",
       "      <th>8</th>\n",
       "      <td>fuel_3</td>\n",
       "      <td>0.00324933</td>\n",
       "    </tr>\n",
       "  </tbody>\n",
       "</table>\n",
       "</div>"
      ],
      "text/plain": [
       "             feature  importance\n",
       "5             score2    0.583765\n",
       "59       color_เขียว    0.112316\n",
       "2                age   0.0947726\n",
       "4              score   0.0586141\n",
       "3        length_desc   0.0524003\n",
       "0            mileage   0.0310862\n",
       "40     brand_Porsche    0.023697\n",
       "1   mileage_per_year   0.0147567\n",
       "9             fuel_4   0.0056024\n",
       "8             fuel_3  0.00324933"
      ]
     },
     "execution_count": 90,
     "metadata": {},
     "output_type": "execute_result"
    }
   ],
   "source": [
    "feat_imp = pd.DataFrame([X_train.columns, model.feature_importances_]).T\n",
    "feat_imp.columns = ['feature','importance']\n",
    "feat_imp.sort_values(by='importance', ascending=False).head(10)"
   ]
  },
  {
   "cell_type": "code",
   "execution_count": 94,
   "metadata": {},
   "outputs": [
    {
     "data": {
      "text/plain": [
       "[<matplotlib.lines.Line2D at 0x1dea0696848>]"
      ]
     },
     "execution_count": 94,
     "metadata": {},
     "output_type": "execute_result"
    },
    {
     "data": {
      "image/png": "[encoded data removed]",
      "text/plain": [
       "<Figure size 720x432 with 1 Axes>"
      ]
     },
     "metadata": {
      "needs_background": "light"
     },
     "output_type": "display_data"
    }
   ],
   "source": [
    "plt.figure(figsize=(10,6))\n",
    "plt.scatter(prediction, y_test)\n",
    "plt.plot(range(0,7*10**6),range(0,7*10**6),color='red',linestyle='dashed')"
   ]
  },
  {
   "cell_type": "code",
   "execution_count": null,
   "metadata": {},
   "outputs": [],
   "source": []
  }
 ],
 "metadata": {
  "kernelspec": {
   "display_name": "Python 3",
   "language": "python",
   "name": "python3"
  },
  "language_info": {
   "codemirror_mode": {
    "name": "ipython",
    "version": 3
   },
   "file_extension": ".py",
   "mimetype": "text/x-python",
   "name": "python",
   "nbconvert_exporter": "python",
   "pygments_lexer": "ipython3",
   "version": "3.7.6"
  }
 },
 "nbformat": 4,
 "nbformat_minor": 4
}
