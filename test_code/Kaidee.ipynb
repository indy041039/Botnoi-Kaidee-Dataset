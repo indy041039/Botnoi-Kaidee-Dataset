{
 "cells": [
  {
   "cell_type": "code",
   "execution_count": 1,
   "metadata": {},
   "outputs": [],
   "source": [
    "import pandas as pd\n",
    "import numpy as np\n",
    "import matplotlib.pyplot as plt\n",
    "import seaborn as sns\n",
    "import re\n",
    "import time\n",
    "import datetime\n",
    "from sklearn.preprocessing import MultiLabelBinarizer\n",
    "from sklearn.preprocessing import MinMaxScaler, StandardScaler, RobustScaler"
   ]
  },
  {
   "cell_type": "code",
   "execution_count": 2,
   "metadata": {},
   "outputs": [],
   "source": [
    "def load_data():\n",
    "    train_df = pd.read_csv('train.csv')\n",
    "    test_df = pd.read_csv('test.csv')\n",
    "    return train_df, test_df"
   ]
  },
  {
   "cell_type": "code",
   "execution_count": 3,
   "metadata": {},
   "outputs": [],
   "source": [
    "train_df, test_df = load_data()"
   ]
  },
  {
   "cell_type": "code",
   "execution_count": 4,
   "metadata": {
    "scrolled": true
   },
   "outputs": [
    {
     "data": {
      "text/html": [
       "<div>\n",
       "<style scoped>\n",
       "    .dataframe tbody tr th:only-of-type {\n",
       "        vertical-align: middle;\n",
       "    }\n",
       "\n",
       "    .dataframe tbody tr th {\n",
       "        vertical-align: top;\n",
       "    }\n",
       "\n",
       "    .dataframe thead th {\n",
       "        text-align: right;\n",
       "    }\n",
       "</style>\n",
       "<table border=\"1\" class=\"dataframe\">\n",
       "  <thead>\n",
       "    <tr style=\"text-align: right;\">\n",
       "      <th></th>\n",
       "      <th>price</th>\n",
       "      <th>desc</th>\n",
       "      <th>ad_id</th>\n",
       "      <th>location</th>\n",
       "      <th>timestamp</th>\n",
       "      <th>mileage</th>\n",
       "      <th>brand</th>\n",
       "      <th>model</th>\n",
       "      <th>year</th>\n",
       "      <th>fuel</th>\n",
       "      <th>transmission</th>\n",
       "      <th>color</th>\n",
       "      <th>car_type</th>\n",
       "    </tr>\n",
       "  </thead>\n",
       "  <tbody>\n",
       "    <tr>\n",
       "      <th>0</th>\n",
       "      <td>569000</td>\n",
       "      <td>\"เลขไมล์5,700กิโลแท้ 1.3 SP โฉมปัจจุบัน รถ2เดื...</td>\n",
       "      <td>354186401</td>\n",
       "      <td>กรุงเทพมหานคร</td>\n",
       "      <td>1584521455</td>\n",
       "      <td>5700</td>\n",
       "      <td>Mazda</td>\n",
       "      <td>Mazda2 Sport</td>\n",
       "      <td>2020</td>\n",
       "      <td>เบนซิน</td>\n",
       "      <td>เกียร์อัตโนมัติ</td>\n",
       "      <td>เทา</td>\n",
       "      <td>รถเก๋ง</td>\n",
       "    </tr>\n",
       "    <tr>\n",
       "      <th>1</th>\n",
       "      <td>1150000</td>\n",
       "      <td>ขาย Chevrolet c10 ปี 1965 รถแท้ ขับขวา พร้อมโอ...</td>\n",
       "      <td>356227846</td>\n",
       "      <td>กรุงเทพมหานคร</td>\n",
       "      <td>1591021387</td>\n",
       "      <td>1234</td>\n",
       "      <td>Chevrolet</td>\n",
       "      <td>รุ่นอื่นๆ</td>\n",
       "      <td>1965</td>\n",
       "      <td>เบนซิน</td>\n",
       "      <td>เกียร์อัตโนมัติ</td>\n",
       "      <td>แดง</td>\n",
       "      <td>รถอื่น ๆ</td>\n",
       "    </tr>\n",
       "    <tr>\n",
       "      <th>2</th>\n",
       "      <td>799000</td>\n",
       "      <td>📢มาแว้วว... ลค.ที่ชอบรถสีขาว​ ใสๆเลย\\nใครเร็วก...</td>\n",
       "      <td>356055202</td>\n",
       "      <td>นนทบุรี</td>\n",
       "      <td>1590502642</td>\n",
       "      <td>100000</td>\n",
       "      <td>Mitsubishi</td>\n",
       "      <td>Pajero Sport</td>\n",
       "      <td>2016</td>\n",
       "      <td>ดีเซล</td>\n",
       "      <td>เกียร์อัตโนมัติ</td>\n",
       "      <td>ขาว</td>\n",
       "      <td>รถ MPV / SUV</td>\n",
       "    </tr>\n",
       "    <tr>\n",
       "      <th>3</th>\n",
       "      <td>429000</td>\n",
       "      <td>รหัส 130/v36\\n2010 toyota CAMRY 2.4 hybrid nav...</td>\n",
       "      <td>356169430</td>\n",
       "      <td>กรุงเทพมหานคร</td>\n",
       "      <td>1590844871</td>\n",
       "      <td>184921</td>\n",
       "      <td>Toyota</td>\n",
       "      <td>Camry</td>\n",
       "      <td>2010</td>\n",
       "      <td>ไฮบริด</td>\n",
       "      <td>เกียร์อัตโนมัติ</td>\n",
       "      <td>ดำ</td>\n",
       "      <td>รถเก๋ง</td>\n",
       "    </tr>\n",
       "    <tr>\n",
       "      <th>4</th>\n",
       "      <td>268000</td>\n",
       "      <td>เครื่อง 1.2 E โฉมไฟใหม่ พ.พาวเวอร์ ก.ไฟฟ้า ซทล...</td>\n",
       "      <td>354415016</td>\n",
       "      <td>กรุงเทพมหานคร</td>\n",
       "      <td>1585546785</td>\n",
       "      <td>103000</td>\n",
       "      <td>Nissan</td>\n",
       "      <td>Almera</td>\n",
       "      <td>2016</td>\n",
       "      <td>เบนซิน</td>\n",
       "      <td>เกียร์อัตโนมัติ</td>\n",
       "      <td>ขาว</td>\n",
       "      <td>รถเก๋ง</td>\n",
       "    </tr>\n",
       "    <tr>\n",
       "      <th>...</th>\n",
       "      <td>...</td>\n",
       "      <td>...</td>\n",
       "      <td>...</td>\n",
       "      <td>...</td>\n",
       "      <td>...</td>\n",
       "      <td>...</td>\n",
       "      <td>...</td>\n",
       "      <td>...</td>\n",
       "      <td>...</td>\n",
       "      <td>...</td>\n",
       "      <td>...</td>\n",
       "      <td>...</td>\n",
       "      <td>...</td>\n",
       "    </tr>\n",
       "    <tr>\n",
       "      <th>7098</th>\n",
       "      <td>1990000</td>\n",
       "      <td>E200 Cabriolet AMG ทั้งคัน\\nออกป้ายแดงรถสวยมาก...</td>\n",
       "      <td>355302374</td>\n",
       "      <td>กรุงเทพมหานคร</td>\n",
       "      <td>1588207277</td>\n",
       "      <td>NaN</td>\n",
       "      <td>Mercedes-Benz</td>\n",
       "      <td>E-Class</td>\n",
       "      <td>2015</td>\n",
       "      <td>เบนซิน</td>\n",
       "      <td>เกียร์อัตโนมัติ</td>\n",
       "      <td>ดำ</td>\n",
       "      <td>รถเก๋ง</td>\n",
       "    </tr>\n",
       "    <tr>\n",
       "      <th>7099</th>\n",
       "      <td>299000</td>\n",
       "      <td>บ60/243 #MITSUBISHI #TRITON 2.5 GLS PLUS\\nปี 2...</td>\n",
       "      <td>356181327</td>\n",
       "      <td>กรุงเทพมหานคร</td>\n",
       "      <td>1590894498</td>\n",
       "      <td>169376</td>\n",
       "      <td>Mitsubishi</td>\n",
       "      <td>Triton</td>\n",
       "      <td>2010</td>\n",
       "      <td>ดีเซล</td>\n",
       "      <td>เกียร์ธรรมดา</td>\n",
       "      <td>เทา</td>\n",
       "      <td>รถกระบะ</td>\n",
       "    </tr>\n",
       "    <tr>\n",
       "      <th>7100</th>\n",
       "      <td>1290000</td>\n",
       "      <td>✅ BMW X1  1.8D Xline ปี 2016\\n✅ สีดำ  (เบาะน้ำ...</td>\n",
       "      <td>356240397</td>\n",
       "      <td>กรุงเทพมหานคร</td>\n",
       "      <td>1591080235</td>\n",
       "      <td>89000</td>\n",
       "      <td>BMW</td>\n",
       "      <td>X1</td>\n",
       "      <td>2016</td>\n",
       "      <td>ดีเซล</td>\n",
       "      <td>เกียร์อัตโนมัติ</td>\n",
       "      <td>ดำ</td>\n",
       "      <td>รถ MPV / SUV</td>\n",
       "    </tr>\n",
       "    <tr>\n",
       "      <th>7101</th>\n",
       "      <td>479000</td>\n",
       "      <td>Honda BR-V ตัวSV 1.500cc เกียร์ออโต้ ปี 2016\\n...</td>\n",
       "      <td>354592540</td>\n",
       "      <td>สมุทรปราการ</td>\n",
       "      <td>1586149800</td>\n",
       "      <td>NaN</td>\n",
       "      <td>Honda</td>\n",
       "      <td>BR-V</td>\n",
       "      <td>2016</td>\n",
       "      <td>เบนซิน</td>\n",
       "      <td>เกียร์อัตโนมัติ</td>\n",
       "      <td>ส้ม</td>\n",
       "      <td>รถ MPV / SUV</td>\n",
       "    </tr>\n",
       "    <tr>\n",
       "      <th>7102</th>\n",
       "      <td>1238000</td>\n",
       "      <td>รถสวย มือเดียป้ายแดง\\nไม่ให้เลขทะเบียนครับ\\n\\n...</td>\n",
       "      <td>353642674</td>\n",
       "      <td>ราชบุรี</td>\n",
       "      <td>1582201654</td>\n",
       "      <td>310000</td>\n",
       "      <td>Toyota</td>\n",
       "      <td>Alphard</td>\n",
       "      <td>2015</td>\n",
       "      <td>ไฮบริด</td>\n",
       "      <td>เกียร์อัตโนมัติ</td>\n",
       "      <td>ขาว</td>\n",
       "      <td>รถ MPV / SUV</td>\n",
       "    </tr>\n",
       "  </tbody>\n",
       "</table>\n",
       "<p>7103 rows × 13 columns</p>\n",
       "</div>"
      ],
      "text/plain": [
       "        price                                               desc      ad_id  \\\n",
       "0      569000  \"เลขไมล์5,700กิโลแท้ 1.3 SP โฉมปัจจุบัน รถ2เดื...  354186401   \n",
       "1     1150000  ขาย Chevrolet c10 ปี 1965 รถแท้ ขับขวา พร้อมโอ...  356227846   \n",
       "2      799000  📢มาแว้วว... ลค.ที่ชอบรถสีขาว​ ใสๆเลย\\nใครเร็วก...  356055202   \n",
       "3      429000  รหัส 130/v36\\n2010 toyota CAMRY 2.4 hybrid nav...  356169430   \n",
       "4      268000  เครื่อง 1.2 E โฉมไฟใหม่ พ.พาวเวอร์ ก.ไฟฟ้า ซทล...  354415016   \n",
       "...       ...                                                ...        ...   \n",
       "7098  1990000  E200 Cabriolet AMG ทั้งคัน\\nออกป้ายแดงรถสวยมาก...  355302374   \n",
       "7099   299000  บ60/243 #MITSUBISHI #TRITON 2.5 GLS PLUS\\nปี 2...  356181327   \n",
       "7100  1290000  ✅ BMW X1  1.8D Xline ปี 2016\\n✅ สีดำ  (เบาะน้ำ...  356240397   \n",
       "7101   479000  Honda BR-V ตัวSV 1.500cc เกียร์ออโต้ ปี 2016\\n...  354592540   \n",
       "7102  1238000  รถสวย มือเดียป้ายแดง\\nไม่ให้เลขทะเบียนครับ\\n\\n...  353642674   \n",
       "\n",
       "           location   timestamp mileage          brand         model  year  \\\n",
       "0     กรุงเทพมหานคร  1584521455    5700          Mazda  Mazda2 Sport  2020   \n",
       "1     กรุงเทพมหานคร  1591021387    1234      Chevrolet     รุ่นอื่นๆ  1965   \n",
       "2           นนทบุรี  1590502642  100000     Mitsubishi  Pajero Sport  2016   \n",
       "3     กรุงเทพมหานคร  1590844871  184921         Toyota         Camry  2010   \n",
       "4     กรุงเทพมหานคร  1585546785  103000         Nissan        Almera  2016   \n",
       "...             ...         ...     ...            ...           ...   ...   \n",
       "7098  กรุงเทพมหานคร  1588207277     NaN  Mercedes-Benz       E-Class  2015   \n",
       "7099  กรุงเทพมหานคร  1590894498  169376     Mitsubishi        Triton  2010   \n",
       "7100  กรุงเทพมหานคร  1591080235   89000            BMW            X1  2016   \n",
       "7101    สมุทรปราการ  1586149800     NaN          Honda          BR-V  2016   \n",
       "7102        ราชบุรี  1582201654  310000         Toyota       Alphard  2015   \n",
       "\n",
       "        fuel     transmission color      car_type  \n",
       "0     เบนซิน  เกียร์อัตโนมัติ   เทา        รถเก๋ง  \n",
       "1     เบนซิน  เกียร์อัตโนมัติ   แดง      รถอื่น ๆ  \n",
       "2      ดีเซล  เกียร์อัตโนมัติ   ขาว  รถ MPV / SUV  \n",
       "3     ไฮบริด  เกียร์อัตโนมัติ    ดำ        รถเก๋ง  \n",
       "4     เบนซิน  เกียร์อัตโนมัติ   ขาว        รถเก๋ง  \n",
       "...      ...              ...   ...           ...  \n",
       "7098  เบนซิน  เกียร์อัตโนมัติ    ดำ        รถเก๋ง  \n",
       "7099   ดีเซล     เกียร์ธรรมดา   เทา       รถกระบะ  \n",
       "7100   ดีเซล  เกียร์อัตโนมัติ    ดำ  รถ MPV / SUV  \n",
       "7101  เบนซิน  เกียร์อัตโนมัติ   ส้ม  รถ MPV / SUV  \n",
       "7102  ไฮบริด  เกียร์อัตโนมัติ   ขาว  รถ MPV / SUV  \n",
       "\n",
       "[7103 rows x 13 columns]"
      ]
     },
     "execution_count": 4,
     "metadata": {},
     "output_type": "execute_result"
    }
   ],
   "source": [
    "train_df "
   ]
  },
  {
   "cell_type": "code",
   "execution_count": 5,
   "metadata": {
    "scrolled": true
   },
   "outputs": [
    {
     "data": {
      "text/html": [
       "<div>\n",
       "<style scoped>\n",
       "    .dataframe tbody tr th:only-of-type {\n",
       "        vertical-align: middle;\n",
       "    }\n",
       "\n",
       "    .dataframe tbody tr th {\n",
       "        vertical-align: top;\n",
       "    }\n",
       "\n",
       "    .dataframe thead th {\n",
       "        text-align: right;\n",
       "    }\n",
       "</style>\n",
       "<table border=\"1\" class=\"dataframe\">\n",
       "  <thead>\n",
       "    <tr style=\"text-align: right;\">\n",
       "      <th></th>\n",
       "      <th>price</th>\n",
       "      <th>desc</th>\n",
       "      <th>ad_id</th>\n",
       "      <th>location</th>\n",
       "      <th>timestamp</th>\n",
       "      <th>mileage</th>\n",
       "      <th>brand</th>\n",
       "      <th>model</th>\n",
       "      <th>year</th>\n",
       "      <th>fuel</th>\n",
       "      <th>transmission</th>\n",
       "      <th>color</th>\n",
       "      <th>car_type</th>\n",
       "    </tr>\n",
       "  </thead>\n",
       "  <tbody>\n",
       "    <tr>\n",
       "      <th>0</th>\n",
       "      <td>549000</td>\n",
       "      <td>Option: เครื่องเล่น CD, USB, กระจกไฟฟ้า, เซ็นท...</td>\n",
       "      <td>354696215</td>\n",
       "      <td>นนทบุรี</td>\n",
       "      <td>1586421506</td>\n",
       "      <td>31200</td>\n",
       "      <td>Ford</td>\n",
       "      <td>Ranger</td>\n",
       "      <td>2017</td>\n",
       "      <td>ดีเซล</td>\n",
       "      <td>เกียร์อัตโนมัติ</td>\n",
       "      <td>ดำ</td>\n",
       "      <td>รถกระบะ</td>\n",
       "    </tr>\n",
       "    <tr>\n",
       "      <th>1</th>\n",
       "      <td>358000</td>\n",
       "      <td>ขายรถบ้าน 2006 ISUZU MU-7 แรงๆๆ (เงินสดลดได้)\\...</td>\n",
       "      <td>354237756</td>\n",
       "      <td>สมุทรปราการ</td>\n",
       "      <td>1584748598</td>\n",
       "      <td>267000</td>\n",
       "      <td>Isuzu</td>\n",
       "      <td>MU-7</td>\n",
       "      <td>2006</td>\n",
       "      <td>ดีเซล</td>\n",
       "      <td>เกียร์อัตโนมัติ</td>\n",
       "      <td>บรอนซ์เงิน</td>\n",
       "      <td>รถ MPV / SUV</td>\n",
       "    </tr>\n",
       "    <tr>\n",
       "      <th>2</th>\n",
       "      <td>529000</td>\n",
       "      <td>🔥แคปเปิดได้ 🔥รุ่นใหม่ล่าสุด 🔥แรง ประหยัด เครื่...</td>\n",
       "      <td>352545121</td>\n",
       "      <td>กรุงเทพมหานคร</td>\n",
       "      <td>1577353632</td>\n",
       "      <td>8</td>\n",
       "      <td>Toyota</td>\n",
       "      <td>Hilux Revo</td>\n",
       "      <td>2019</td>\n",
       "      <td>ดีเซล</td>\n",
       "      <td>เกียร์ธรรมดา</td>\n",
       "      <td>ขาว</td>\n",
       "      <td>รถกระบะ</td>\n",
       "    </tr>\n",
       "    <tr>\n",
       "      <th>3</th>\n",
       "      <td>1135000</td>\n",
       "      <td>TOYOTA NEW FORTUNER 2.8 V 4WD SUV AUTO ปี 2015...</td>\n",
       "      <td>356194406</td>\n",
       "      <td>เชียงใหม่</td>\n",
       "      <td>1590918420</td>\n",
       "      <td>100000</td>\n",
       "      <td>Toyota</td>\n",
       "      <td>Fortuner</td>\n",
       "      <td>2015</td>\n",
       "      <td>ดีเซล</td>\n",
       "      <td>เกียร์อัตโนมัติ</td>\n",
       "      <td>ขาว</td>\n",
       "      <td>รถ MPV / SUV</td>\n",
       "    </tr>\n",
       "    <tr>\n",
       "      <th>4</th>\n",
       "      <td>469000</td>\n",
       "      <td>💢 ออกรถ 999 บ. 💢\\n#ฟรี#ออกรถพร้อมประกันตัวรถ 1...</td>\n",
       "      <td>355315874</td>\n",
       "      <td>นนทบุรี</td>\n",
       "      <td>1588235606</td>\n",
       "      <td>NaN</td>\n",
       "      <td>Toyota</td>\n",
       "      <td>Hilux Vigo</td>\n",
       "      <td>2015</td>\n",
       "      <td>ดีเซล</td>\n",
       "      <td>เกียร์ธรรมดา</td>\n",
       "      <td>เทา</td>\n",
       "      <td>รถกระบะ</td>\n",
       "    </tr>\n",
       "    <tr>\n",
       "      <th>...</th>\n",
       "      <td>...</td>\n",
       "      <td>...</td>\n",
       "      <td>...</td>\n",
       "      <td>...</td>\n",
       "      <td>...</td>\n",
       "      <td>...</td>\n",
       "      <td>...</td>\n",
       "      <td>...</td>\n",
       "      <td>...</td>\n",
       "      <td>...</td>\n",
       "      <td>...</td>\n",
       "      <td>...</td>\n",
       "      <td>...</td>\n",
       "    </tr>\n",
       "    <tr>\n",
       "      <th>1771</th>\n",
       "      <td>1938000</td>\n",
       "      <td>BENZ C220d EXCLUSIVE ปี 2020 โฉมใหม่ป้ายแดง\\n\\...</td>\n",
       "      <td>356044791</td>\n",
       "      <td>กรุงเทพมหานคร</td>\n",
       "      <td>1590482052</td>\n",
       "      <td>21000</td>\n",
       "      <td>Mercedes-Benz</td>\n",
       "      <td>C-Class</td>\n",
       "      <td>2020</td>\n",
       "      <td>ดีเซล</td>\n",
       "      <td>เกียร์อัตโนมัติ</td>\n",
       "      <td>ดำ</td>\n",
       "      <td>รถเก๋ง</td>\n",
       "    </tr>\n",
       "    <tr>\n",
       "      <th>1772</th>\n",
       "      <td>279000</td>\n",
       "      <td>รถสภาพพร้อมใช้ ตัวท็อป ดูแลรักษาอย่างดี ไมล์แท...</td>\n",
       "      <td>356187826</td>\n",
       "      <td>กรุงเทพมหานคร</td>\n",
       "      <td>1590906984</td>\n",
       "      <td>NaN</td>\n",
       "      <td>Toyota</td>\n",
       "      <td>Vios</td>\n",
       "      <td>2012</td>\n",
       "      <td>เบนซิน</td>\n",
       "      <td>NaN</td>\n",
       "      <td>NaN</td>\n",
       "      <td>รถเก๋ง</td>\n",
       "    </tr>\n",
       "    <tr>\n",
       "      <th>1773</th>\n",
       "      <td>439000</td>\n",
       "      <td>รหัส Vat1/154v\\n2016 honda Jazz 1.5 S สีเทา\\nว...</td>\n",
       "      <td>356168695</td>\n",
       "      <td>กรุงเทพมหานคร</td>\n",
       "      <td>1590843416</td>\n",
       "      <td>76508</td>\n",
       "      <td>Honda</td>\n",
       "      <td>Jazz</td>\n",
       "      <td>2016</td>\n",
       "      <td>เบนซิน</td>\n",
       "      <td>เกียร์ธรรมดา</td>\n",
       "      <td>เทา</td>\n",
       "      <td>รถเก๋ง</td>\n",
       "    </tr>\n",
       "    <tr>\n",
       "      <th>1774</th>\n",
       "      <td>495000</td>\n",
       "      <td>ปี2016 FORD RANGER 4ประตู HI-RIDER 2.2 XLT A/T...</td>\n",
       "      <td>356197697</td>\n",
       "      <td>ปทุมธานี</td>\n",
       "      <td>1590925199</td>\n",
       "      <td>100000</td>\n",
       "      <td>Ford</td>\n",
       "      <td>Ranger</td>\n",
       "      <td>2016</td>\n",
       "      <td>ดีเซล</td>\n",
       "      <td>เกียร์อัตโนมัติ</td>\n",
       "      <td>ดำ</td>\n",
       "      <td>รถกระบะ</td>\n",
       "    </tr>\n",
       "    <tr>\n",
       "      <th>1775</th>\n",
       "      <td>255000</td>\n",
       "      <td>🔥🔥‼‼‼dummy_price‼‼‼\\nสีเทา SUZUKI SWIFT ปี2013...</td>\n",
       "      <td>356233834</td>\n",
       "      <td>กรุงเทพมหานคร</td>\n",
       "      <td>1591061680</td>\n",
       "      <td>80000</td>\n",
       "      <td>Suzuki</td>\n",
       "      <td>Swift</td>\n",
       "      <td>2013</td>\n",
       "      <td>เบนซิน</td>\n",
       "      <td>เกียร์อัตโนมัติ</td>\n",
       "      <td>เทา</td>\n",
       "      <td>รถเก๋ง</td>\n",
       "    </tr>\n",
       "  </tbody>\n",
       "</table>\n",
       "<p>1776 rows × 13 columns</p>\n",
       "</div>"
      ],
      "text/plain": [
       "        price                                               desc      ad_id  \\\n",
       "0      549000  Option: เครื่องเล่น CD, USB, กระจกไฟฟ้า, เซ็นท...  354696215   \n",
       "1      358000  ขายรถบ้าน 2006 ISUZU MU-7 แรงๆๆ (เงินสดลดได้)\\...  354237756   \n",
       "2      529000  🔥แคปเปิดได้ 🔥รุ่นใหม่ล่าสุด 🔥แรง ประหยัด เครื่...  352545121   \n",
       "3     1135000  TOYOTA NEW FORTUNER 2.8 V 4WD SUV AUTO ปี 2015...  356194406   \n",
       "4      469000  💢 ออกรถ 999 บ. 💢\\n#ฟรี#ออกรถพร้อมประกันตัวรถ 1...  355315874   \n",
       "...       ...                                                ...        ...   \n",
       "1771  1938000  BENZ C220d EXCLUSIVE ปี 2020 โฉมใหม่ป้ายแดง\\n\\...  356044791   \n",
       "1772   279000  รถสภาพพร้อมใช้ ตัวท็อป ดูแลรักษาอย่างดี ไมล์แท...  356187826   \n",
       "1773   439000  รหัส Vat1/154v\\n2016 honda Jazz 1.5 S สีเทา\\nว...  356168695   \n",
       "1774   495000  ปี2016 FORD RANGER 4ประตู HI-RIDER 2.2 XLT A/T...  356197697   \n",
       "1775   255000  🔥🔥‼‼‼dummy_price‼‼‼\\nสีเทา SUZUKI SWIFT ปี2013...  356233834   \n",
       "\n",
       "           location   timestamp mileage          brand       model  year  \\\n",
       "0           นนทบุรี  1586421506   31200           Ford      Ranger  2017   \n",
       "1       สมุทรปราการ  1584748598  267000          Isuzu        MU-7  2006   \n",
       "2     กรุงเทพมหานคร  1577353632       8         Toyota  Hilux Revo  2019   \n",
       "3         เชียงใหม่  1590918420  100000         Toyota    Fortuner  2015   \n",
       "4           นนทบุรี  1588235606     NaN         Toyota  Hilux Vigo  2015   \n",
       "...             ...         ...     ...            ...         ...   ...   \n",
       "1771  กรุงเทพมหานคร  1590482052   21000  Mercedes-Benz     C-Class  2020   \n",
       "1772  กรุงเทพมหานคร  1590906984     NaN         Toyota        Vios  2012   \n",
       "1773  กรุงเทพมหานคร  1590843416   76508          Honda        Jazz  2016   \n",
       "1774       ปทุมธานี  1590925199  100000           Ford      Ranger  2016   \n",
       "1775  กรุงเทพมหานคร  1591061680   80000         Suzuki       Swift  2013   \n",
       "\n",
       "        fuel     transmission       color      car_type  \n",
       "0      ดีเซล  เกียร์อัตโนมัติ          ดำ       รถกระบะ  \n",
       "1      ดีเซล  เกียร์อัตโนมัติ  บรอนซ์เงิน  รถ MPV / SUV  \n",
       "2      ดีเซล     เกียร์ธรรมดา         ขาว       รถกระบะ  \n",
       "3      ดีเซล  เกียร์อัตโนมัติ         ขาว  รถ MPV / SUV  \n",
       "4      ดีเซล     เกียร์ธรรมดา         เทา       รถกระบะ  \n",
       "...      ...              ...         ...           ...  \n",
       "1771   ดีเซล  เกียร์อัตโนมัติ          ดำ        รถเก๋ง  \n",
       "1772  เบนซิน              NaN         NaN        รถเก๋ง  \n",
       "1773  เบนซิน     เกียร์ธรรมดา         เทา        รถเก๋ง  \n",
       "1774   ดีเซล  เกียร์อัตโนมัติ          ดำ       รถกระบะ  \n",
       "1775  เบนซิน  เกียร์อัตโนมัติ         เทา        รถเก๋ง  \n",
       "\n",
       "[1776 rows x 13 columns]"
      ]
     },
     "execution_count": 5,
     "metadata": {},
     "output_type": "execute_result"
    }
   ],
   "source": [
    "test_df"
   ]
  },
  {
   "cell_type": "markdown",
   "metadata": {},
   "source": [
    "# Explanatory Data Analysis"
   ]
  },
  {
   "cell_type": "code",
   "execution_count": 6,
   "metadata": {
    "scrolled": true
   },
   "outputs": [
    {
     "data": {
      "text/plain": [
       "price              0\n",
       "desc             171\n",
       "ad_id              0\n",
       "location           0\n",
       "timestamp          0\n",
       "mileage         1662\n",
       "brand              0\n",
       "model              0\n",
       "year               0\n",
       "fuel               0\n",
       "transmission     213\n",
       "color            255\n",
       "car_type           0\n",
       "dtype: int64"
      ]
     },
     "execution_count": 6,
     "metadata": {},
     "output_type": "execute_result"
    }
   ],
   "source": [
    "train_df.isna().sum()"
   ]
  },
  {
   "cell_type": "code",
   "execution_count": 7,
   "metadata": {},
   "outputs": [
    {
     "data": {
      "text/plain": [
       "<matplotlib.axes._subplots.AxesSubplot at 0x1dd521dc908>"
      ]
     },
     "execution_count": 7,
     "metadata": {},
     "output_type": "execute_result"
    },
    {
     "data": {
      "image/png": "[encoded data removed]",
      "text/plain": [
       "<Figure size 720x432 with 1 Axes>"
      ]
     },
     "metadata": {
      "needs_background": "light"
     },
     "output_type": "display_data"
    }
   ],
   "source": [
    "# PRICE\n",
    "plt.figure(figsize=(10,6))\n",
    "sns.distplot(train_df['price'], bins=50, kde=False)"
   ]
  },
  {
   "cell_type": "code",
   "execution_count": 8,
   "metadata": {},
   "outputs": [
    {
     "data": {
      "text/plain": [
       "0       \"เลขไมล์5,700กิโลแท้ 1.3 SP โฉมปัจจุบัน รถ2เดื...\n",
       "1       ขาย Chevrolet c10 ปี 1965 รถแท้ ขับขวา พร้อมโอ...\n",
       "2       📢มาแว้วว... ลค.ที่ชอบรถสีขาว​ ใสๆเลย\\nใครเร็วก...\n",
       "3       รหัส 130/v36\\n2010 toyota CAMRY 2.4 hybrid nav...\n",
       "4       เครื่อง 1.2 E โฉมไฟใหม่ พ.พาวเวอร์ ก.ไฟฟ้า ซทล...\n",
       "                              ...                        \n",
       "7098    E200 Cabriolet AMG ทั้งคัน\\nออกป้ายแดงรถสวยมาก...\n",
       "7099    บ60/243 #MITSUBISHI #TRITON 2.5 GLS PLUS\\nปี 2...\n",
       "7100    ✅ BMW X1  1.8D Xline ปี 2016\\n✅ สีดำ  (เบาะน้ำ...\n",
       "7101    Honda BR-V ตัวSV 1.500cc เกียร์ออโต้ ปี 2016\\n...\n",
       "7102    รถสวย มือเดียป้ายแดง\\nไม่ให้เลขทะเบียนครับ\\n\\n...\n",
       "Name: desc, Length: 7103, dtype: object"
      ]
     },
     "execution_count": 8,
     "metadata": {},
     "output_type": "execute_result"
    }
   ],
   "source": [
    "# DESC\n",
    "train_df['desc']"
   ]
  },
  {
   "cell_type": "code",
   "execution_count": 9,
   "metadata": {},
   "outputs": [
    {
     "data": {
      "text/plain": [
       "0        426\n",
       "1        115\n",
       "2        599\n",
       "3        158\n",
       "4        250\n",
       "        ... \n",
       "7098      88\n",
       "7099     619\n",
       "7100     175\n",
       "7101    1525\n",
       "7102     408\n",
       "Name: desc, Length: 7103, dtype: int64"
      ]
     },
     "execution_count": 9,
     "metadata": {},
     "output_type": "execute_result"
    }
   ],
   "source": [
    "train_df['desc'].apply(lambda x: len(str(x).strip().replace(' ','').replace('\\n','')))"
   ]
  },
  {
   "cell_type": "code",
   "execution_count": 10,
   "metadata": {},
   "outputs": [
    {
     "data": {
      "text/plain": [
       "กรุงเทพมหานคร    4217\n",
       "นนทบุรี           806\n",
       "ชลบุรี            299\n",
       "เชียงใหม่         286\n",
       "ปทุมธานี          240\n",
       "                 ... \n",
       "อุตรดิตถ์           2\n",
       "สกลนคร              1\n",
       "สตูล                1\n",
       "ยโสธร               1\n",
       "นราธิวาส            1\n",
       "Name: location, Length: 72, dtype: int64"
      ]
     },
     "execution_count": 10,
     "metadata": {},
     "output_type": "execute_result"
    }
   ],
   "source": [
    "# LOCATION\n",
    "train_df['location'].value_counts()"
   ]
  },
  {
   "cell_type": "code",
   "execution_count": 11,
   "metadata": {
    "scrolled": true
   },
   "outputs": [
    {
     "data": {
      "text/plain": [
       "0      2020-03-18 15:50:55\n",
       "1      2020-06-01 21:23:07\n",
       "2      2020-05-26 21:17:22\n",
       "3      2020-05-30 20:21:11\n",
       "4      2020-03-30 12:39:45\n",
       "               ...        \n",
       "7098   2020-04-30 07:41:17\n",
       "7099   2020-05-31 10:08:18\n",
       "7100   2020-06-02 13:43:55\n",
       "7101   2020-04-06 12:10:00\n",
       "7102   2020-02-20 19:27:34\n",
       "Name: timestamp, Length: 7103, dtype: datetime64[ns]"
      ]
     },
     "execution_count": 11,
     "metadata": {},
     "output_type": "execute_result"
    }
   ],
   "source": [
    "# TIMESTAMP\n",
    "train_df['timestamp'].apply(lambda x: datetime.datetime.fromtimestamp(x))"
   ]
  },
  {
   "cell_type": "code",
   "execution_count": 12,
   "metadata": {},
   "outputs": [],
   "source": [
    "#MILEAGE\n",
    "test = train_df['mileage'].fillna(0)\n",
    "test[1620] = 0\n",
    "test[3164] = 0\n",
    "test[3937] = 0\n",
    "test_ = pd.to_numeric(test)"
   ]
  },
  {
   "cell_type": "code",
   "execution_count": 13,
   "metadata": {},
   "outputs": [
    {
     "data": {
      "text/plain": [
       "0         5700.0\n",
       "1         1234.0\n",
       "2       100000.0\n",
       "3       184921.0\n",
       "4       103000.0\n",
       "          ...   \n",
       "7098         0.0\n",
       "7099    169376.0\n",
       "7100     89000.0\n",
       "7101         0.0\n",
       "7102    310000.0\n",
       "Name: mileage, Length: 7103, dtype: float64"
      ]
     },
     "execution_count": 13,
     "metadata": {},
     "output_type": "execute_result"
    }
   ],
   "source": [
    "test_"
   ]
  },
  {
   "cell_type": "code",
   "execution_count": 14,
   "metadata": {},
   "outputs": [
    {
     "data": {
      "text/plain": [
       "0         5700.0\n",
       "1         1234.0\n",
       "2       100000.0\n",
       "3       184921.0\n",
       "4       103000.0\n",
       "          ...   \n",
       "7096     90000.0\n",
       "7097    208000.0\n",
       "7099    169376.0\n",
       "7100     89000.0\n",
       "7102    310000.0\n",
       "Name: mileage, Length: 5336, dtype: float64"
      ]
     },
     "execution_count": 14,
     "metadata": {},
     "output_type": "execute_result"
    }
   ],
   "source": [
    "test_[test_!=0]"
   ]
  },
  {
   "cell_type": "code",
   "execution_count": 15,
   "metadata": {},
   "outputs": [
    {
     "data": {
      "text/plain": [
       "<matplotlib.axes._subplots.AxesSubplot at 0x1dd52a21288>"
      ]
     },
     "execution_count": 15,
     "metadata": {},
     "output_type": "execute_result"
    },
    {
     "data": {
      "image/png": "[encoded data removed]",
      "text/plain": [
       "<Figure size 720x432 with 1 Axes>"
      ]
     },
     "metadata": {
      "needs_background": "light"
     },
     "output_type": "display_data"
    }
   ],
   "source": [
    "plt.figure(figsize=(10,6))\n",
    "sns.distplot(test_[(test_!=0) & (test_<3*10**5)], bins=50)"
   ]
  },
  {
   "cell_type": "code",
   "execution_count": 16,
   "metadata": {},
   "outputs": [
    {
     "data": {
      "text/plain": [
       "<matplotlib.axes._subplots.AxesSubplot at 0x1dd52aa3488>"
      ]
     },
     "execution_count": 16,
     "metadata": {},
     "output_type": "execute_result"
    },
    {
     "data": {
      "image/png": "[encoded data removed]",
      "text/plain": [
       "<Figure size 432x288 with 1 Axes>"
      ]
     },
     "metadata": {
      "needs_background": "light"
     },
     "output_type": "display_data"
    }
   ],
   "source": [
    "sns.boxplot(test_[(test_!=0) & (test_<10**6)])"
   ]
  },
  {
   "cell_type": "code",
   "execution_count": 17,
   "metadata": {},
   "outputs": [
    {
     "data": {
      "text/plain": [
       "(array([ 0,  1,  2,  3,  4,  5,  6,  7,  8,  9, 10, 11, 12, 13, 14, 15, 16,\n",
       "        17, 18, 19, 20, 21, 22, 23, 24]),\n",
       " <a list of 25 Text xticklabel objects>)"
      ]
     },
     "execution_count": 17,
     "metadata": {},
     "output_type": "execute_result"
    },
    {
     "name": "stderr",
     "output_type": "stream",
     "text": [
      "C:\\Users\\ASUS\\anaconda3\\lib\\site-packages\\matplotlib\\backends\\backend_agg.py:211: RuntimeWarning: Glyph 3618 missing from current font.\n",
      "  font.set_text(s, 0.0, flags=flags)\n",
      "C:\\Users\\ASUS\\anaconda3\\lib\\site-packages\\matplotlib\\backends\\backend_agg.py:211: RuntimeWarning: Glyph 3637 missing from current font.\n",
      "  font.set_text(s, 0.0, flags=flags)\n",
      "C:\\Users\\ASUS\\anaconda3\\lib\\site-packages\\matplotlib\\backends\\backend_agg.py:211: RuntimeWarning: Glyph 3656 missing from current font.\n",
      "  font.set_text(s, 0.0, flags=flags)\n",
      "C:\\Users\\ASUS\\anaconda3\\lib\\site-packages\\matplotlib\\backends\\backend_agg.py:211: RuntimeWarning: Glyph 3627 missing from current font.\n",
      "  font.set_text(s, 0.0, flags=flags)\n",
      "C:\\Users\\ASUS\\anaconda3\\lib\\site-packages\\matplotlib\\backends\\backend_agg.py:211: RuntimeWarning: Glyph 3657 missing from current font.\n",
      "  font.set_text(s, 0.0, flags=flags)\n",
      "C:\\Users\\ASUS\\anaconda3\\lib\\site-packages\\matplotlib\\backends\\backend_agg.py:211: RuntimeWarning: Glyph 3629 missing from current font.\n",
      "  font.set_text(s, 0.0, flags=flags)\n",
      "C:\\Users\\ASUS\\anaconda3\\lib\\site-packages\\matplotlib\\backends\\backend_agg.py:211: RuntimeWarning: Glyph 3639 missing from current font.\n",
      "  font.set_text(s, 0.0, flags=flags)\n",
      "C:\\Users\\ASUS\\anaconda3\\lib\\site-packages\\matplotlib\\backends\\backend_agg.py:211: RuntimeWarning: Glyph 3609 missing from current font.\n",
      "  font.set_text(s, 0.0, flags=flags)\n",
      "C:\\Users\\ASUS\\anaconda3\\lib\\site-packages\\matplotlib\\backends\\backend_agg.py:211: RuntimeWarning: Glyph 3654 missing from current font.\n",
      "  font.set_text(s, 0.0, flags=flags)\n",
      "C:\\Users\\ASUS\\anaconda3\\lib\\site-packages\\matplotlib\\backends\\backend_agg.py:180: RuntimeWarning: Glyph 3618 missing from current font.\n",
      "  font.set_text(s, 0, flags=flags)\n",
      "C:\\Users\\ASUS\\anaconda3\\lib\\site-packages\\matplotlib\\backends\\backend_agg.py:180: RuntimeWarning: Glyph 3637 missing from current font.\n",
      "  font.set_text(s, 0, flags=flags)\n",
      "C:\\Users\\ASUS\\anaconda3\\lib\\site-packages\\matplotlib\\backends\\backend_agg.py:180: RuntimeWarning: Glyph 3656 missing from current font.\n",
      "  font.set_text(s, 0, flags=flags)\n",
      "C:\\Users\\ASUS\\anaconda3\\lib\\site-packages\\matplotlib\\backends\\backend_agg.py:180: RuntimeWarning: Glyph 3627 missing from current font.\n",
      "  font.set_text(s, 0, flags=flags)\n",
      "C:\\Users\\ASUS\\anaconda3\\lib\\site-packages\\matplotlib\\backends\\backend_agg.py:180: RuntimeWarning: Glyph 3657 missing from current font.\n",
      "  font.set_text(s, 0, flags=flags)\n",
      "C:\\Users\\ASUS\\anaconda3\\lib\\site-packages\\matplotlib\\backends\\backend_agg.py:180: RuntimeWarning: Glyph 3629 missing from current font.\n",
      "  font.set_text(s, 0, flags=flags)\n",
      "C:\\Users\\ASUS\\anaconda3\\lib\\site-packages\\matplotlib\\backends\\backend_agg.py:180: RuntimeWarning: Glyph 3639 missing from current font.\n",
      "  font.set_text(s, 0, flags=flags)\n",
      "C:\\Users\\ASUS\\anaconda3\\lib\\site-packages\\matplotlib\\backends\\backend_agg.py:180: RuntimeWarning: Glyph 3609 missing from current font.\n",
      "  font.set_text(s, 0, flags=flags)\n",
      "C:\\Users\\ASUS\\anaconda3\\lib\\site-packages\\matplotlib\\backends\\backend_agg.py:180: RuntimeWarning: Glyph 3654 missing from current font.\n",
      "  font.set_text(s, 0, flags=flags)\n"
     ]
    },
    {
     "data": {
      "image/png": "[encoded data removed]",
      "text/plain": [
       "<Figure size 720x432 with 1 Axes>"
      ]
     },
     "metadata": {
      "needs_background": "light"
     },
     "output_type": "display_data"
    }
   ],
   "source": [
    "# BRAND\n",
    "plt.figure(figsize=(10,6))\n",
    "chart = sns.countplot(x='brand', data=train_df)\n",
    "plt.xticks(\n",
    "    rotation=90, \n",
    ")"
   ]
  },
  {
   "cell_type": "code",
   "execution_count": 18,
   "metadata": {},
   "outputs": [
    {
     "data": {
      "text/plain": [
       "array(['Mazda2 Sport', 'รุ่นอื่นๆ', 'Pajero Sport', 'Camry', 'Almera',\n",
       "       'D-MAX', 'BIG-M', 'Camaro', 'Jazz', 'Civic', 'Vios', 'CLA-Class',\n",
       "       'City', 'Ranger', 'Mazda3', 'HR-V', 'ONE', 'Avanza',\n",
       "       'NP300-NAVARA', 'Hi-Lander', 'Triton', 'Lancer', 'Innova',\n",
       "       'Fiesta', 'Soluna', 'Series 5', 'Mazda2 Elegance', 'Everest',\n",
       "       'Hilux Vigo Champ', 'Fortuner', 'Hilux Revo', 'Series 3', 'CR-V',\n",
       "       'MU-X', 'Ciaz', 'Aveo', 'Juke', 'A-Class', 'Mirage', 'Ecosport',\n",
       "       'Odyssey', 'Accord', 'E-Class', 'Pajero', 'Vellfire', 'Altis',\n",
       "       'Commuter', 'Yaris', 'Hilux Hero', 'COOPER', 'Hilux Vigo D4D',\n",
       "       'BT-50', 'Brio Amaze', 'ES300', 'Audi TT ', 'C-Class', 'Carry',\n",
       "       'Impreza', 'MG3', 'Freed', 'CX-3', 'Brio', 'Caravelle', 'X-Trail',\n",
       "       'Alphard', 'Vito', 'Sylphy', 'Trailblazer', 'Estima', 'Sienta',\n",
       "       'Wish', 'Prelude', 'X1', 'Freelander', 'BT-50 Pro', 'March',\n",
       "       'CX-5', 'Grand Starex', 'H-1 ', 'Hilux Vigo', 'Captiva', 'Escape',\n",
       "       'Swift', 'SLK-Class', 'Cadillac Fleetwood', 'MGF', 'Colorado',\n",
       "       'Golf', 'Dragon Eye', 'Hilux Tiger', 'Pulsar', 'Navara',\n",
       "       'Hilux Sport Rider', 'Stream', 'Cyclone', 'Hiace', 'C-HR', 'Teana',\n",
       "       '250', 'Terra', 'ZS', 'Tiida', 'V40', 'GLC-Class', 'MG5',\n",
       "       'Space Wagon', 'Livina', 'Corolla', 'Yaris ATIV', 'XV', 'Series 7',\n",
       "       'Mobilio', 'Spark Ex', 'Audi Q7 ', 'Note', 'FTO', 'CLS-Class',\n",
       "       'Neo', 'Cab 4', 'Lancer Ex', 'BR-V', 'Thunder', 'Series 4',\n",
       "       'Carina', 'MU-7', 'Discovery', 'X3', 'Land Cruiser', 'X5',\n",
       "       'Audi R8 ', 'Hilux Mighty-X', 'Carnival', 'Urvan', '220',\n",
       "       'Classic Car', 'Sunny', '200', 'Supra', 'Series 1', 'S-Class',\n",
       "       'V60', 'Ventury', 'Sonic ', 'BIG-M FRONTIER NAVARA', 'S60',\n",
       "       'Cortina', 'FRONTIER', 'Attrage', 'Corona', 'Accord Hybrid',\n",
       "       'Cayman', 'Vitara', 'Grand Adventure', 'TFR ปี 91-97', 'Prius',\n",
       "       'MG6', 'Dragon Power', 'GS', 'Xpander', 'Spacio', 'Cayenne',\n",
       "       'Cruze', 'Cameo', 'Z4', 'Focus', 'Spacecab', '230', 'Boxster',\n",
       "       'Panamera', 'GLA-Class', 'Picanto', 'X6', 'CLK-Class', 'ML-Class',\n",
       "       'Legend', '323', 'Surf', 'Audi Q8', '718', 'Range Rover Velar',\n",
       "       'Familia', 'Series 6', 'Cherokee', 'Grand Cherokee', '350',\n",
       "       'RX300', 'Optra', 'Strada Grandis', 'Harrier', 'Range Rover',\n",
       "       'Adventure', 'XC60', 'G-WAGON', 'Xciter', 'S40', 'Cefiro',\n",
       "       '200 SX', '940', '500', 'Audi A6 ', 'NV', 'IS250', 'Saga',\n",
       "       '300 ZX', 'Ertiga', 'COUNTRYMAN', 'Sport Cruiser', 'Crown',\n",
       "       'Celerio', 'Elantra', '960', 'Hilux Tiger D4D', 'Passat', '240',\n",
       "       'I8', 'Forester', '121', 'SLC-Class', '996 GT3', 'Corvette',\n",
       "       'Series 2', 'Adventure Master', 'RAV 4', 'RX270', 'XC90', '350Z',\n",
       "       'Delica', 'S90', 'Trooper', 'Willy', 'Bluebird', 'Sport Rider',\n",
       "       'Range Rover Evoque', 'Lincoln', 'New Beetle', 'L200-Strada',\n",
       "       'MX-5', 'IST', 'Land Cruiser Prado', 'Integra', 'S80',\n",
       "       'Grand Carnival', 'APV', 'Audi TT RS ', 'BB',\n",
       "       'COOPER 3 DOOR HATCH', 'Terrano', '190', '280', 'Buddy',\n",
       "       'Super Custom', 'Fighter', 'Mark ll', '86GT', '300', 'Transporter',\n",
       "       'Carrera', 'Stepwagon', 'Zafira', 'V-Cross', 'Celica',\n",
       "       '911 Carrera S', 'Mustang', 'Exora', 'Legacy', 'Grand Hiace',\n",
       "       'CLUBMAN', 'Skyline', 'Tucson', 'Persona', 'Audi 80 ', 'Beetle',\n",
       "       'M3', 'GLE-Class', 'Excel', 'Aspire', 'Cube', 'Strada G Wagon',\n",
       "       'Serena', 'Audi A4 ', 'Jumbo', 'Tribute', 'Festiva', 'AUSTIN MINI',\n",
       "       'SX4', 'Granvia', 'I3', 'KB ปี 84-90', 'B2500', 'LN', 'Audi Q5 ',\n",
       "       'Soarer', 'Ipsum', 'B-Class', '4Runner', 'Cedric', 'L200-Cyclone',\n",
       "       'Pregio', '911 Carrera', 'Sentra', 'Fairlady', 'GS300', 'CX-7',\n",
       "       '740', 'Nx300h', 'Preve', 'Audi TTS ', 'S2000', 'M4', '911 Turbo',\n",
       "       'Audi A5 ', 'SL-Class', 'Scirocco', 'Tiburon'], dtype=object)"
      ]
     },
     "execution_count": 18,
     "metadata": {},
     "output_type": "execute_result"
    }
   ],
   "source": [
    "# MODEL\n",
    "train_df['model'].unique()"
   ]
  },
  {
   "cell_type": "code",
   "execution_count": 19,
   "metadata": {},
   "outputs": [
    {
     "data": {
      "text/plain": [
       "<matplotlib.axes._subplots.AxesSubplot at 0x1dd52c463c8>"
      ]
     },
     "execution_count": 19,
     "metadata": {},
     "output_type": "execute_result"
    },
    {
     "data": {
      "image/png": "[encoded data removed]",
      "text/plain": [
       "<Figure size 432x288 with 1 Axes>"
      ]
     },
     "metadata": {
      "needs_background": "light"
     },
     "output_type": "display_data"
    }
   ],
   "source": [
    "# YEAR\n",
    "sns.distplot(train_df['year'])"
   ]
  },
  {
   "cell_type": "code",
   "execution_count": 20,
   "metadata": {},
   "outputs": [
    {
     "data": {
      "text/plain": [
       "array(['เบนซิน', 'ดีเซล', 'ไฮบริด', 'เบนซิน + LPG', 'เบนซิน + NGV',\n",
       "       'ดีเซล + NGV', 'LPG', 'NGV', 'ดีเซล + LPG'], dtype=object)"
      ]
     },
     "execution_count": 20,
     "metadata": {},
     "output_type": "execute_result"
    }
   ],
   "source": [
    "# FUEL\n",
    "train_df['fuel'].unique()"
   ]
  },
  {
   "cell_type": "code",
   "execution_count": 21,
   "metadata": {},
   "outputs": [
    {
     "data": {
      "text/plain": [
       "array(['เกียร์อัตโนมัติ', nan, 'เกียร์ธรรมดา'], dtype=object)"
      ]
     },
     "execution_count": 21,
     "metadata": {},
     "output_type": "execute_result"
    }
   ],
   "source": [
    "# TRANSMISSION\n",
    "train_df['transmission'].unique()"
   ]
  },
  {
   "cell_type": "code",
   "execution_count": 22,
   "metadata": {},
   "outputs": [
    {
     "data": {
      "text/plain": [
       "213"
      ]
     },
     "execution_count": 22,
     "metadata": {},
     "output_type": "execute_result"
    }
   ],
   "source": [
    "train_df['transmission'].isna().sum()"
   ]
  },
  {
   "cell_type": "code",
   "execution_count": 23,
   "metadata": {},
   "outputs": [
    {
     "data": {
      "text/plain": [
       "array(['เทา', 'แดง', 'ขาว', 'ดำ', nan, 'เหลือง', 'ฟ้า', 'ส้ม',\n",
       "       'บรอนซ์เงิน', 'น้ำเงิน', 'เขียว', 'บรอนซ์ทอง', 'น้ำตาล', 'ม่วง',\n",
       "       'ชมพู', 'ครีม'], dtype=object)"
      ]
     },
     "execution_count": 23,
     "metadata": {},
     "output_type": "execute_result"
    }
   ],
   "source": [
    "# COLOR\n",
    "train_df['color'].unique()"
   ]
  },
  {
   "cell_type": "code",
   "execution_count": 24,
   "metadata": {
    "scrolled": true
   },
   "outputs": [
    {
     "data": {
      "text/plain": [
       "array(['รถเก๋ง', 'รถอื่น ๆ', 'รถ MPV / SUV', 'รถกระบะ', 'รถตู้'],\n",
       "      dtype=object)"
      ]
     },
     "execution_count": 24,
     "metadata": {},
     "output_type": "execute_result"
    }
   ],
   "source": [
    "# CAR_TYPE\n",
    "train_df['car_type'].unique()"
   ]
  },
  {
   "cell_type": "markdown",
   "metadata": {},
   "source": [
    "# Fill Missing Values"
   ]
  },
  {
   "cell_type": "code",
   "execution_count": 25,
   "metadata": {},
   "outputs": [],
   "source": [
    "def fill_na(df):\n",
    "    fill_df = df.copy()\n",
    "    fill_df['desc'] = fill_df['desc'].fillna('')\n",
    "    fill_df['mileage'] = fill_df['mileage'].fillna(-1)\n",
    "    fill_df['transmission'] = fill_df['transmission'].fillna('no data')\n",
    "    fill_df['color'] = fill_df['color'].fillna('no data')\n",
    "    return fill_df"
   ]
  },
  {
   "cell_type": "code",
   "execution_count": 26,
   "metadata": {},
   "outputs": [],
   "source": [
    "train_df_filled = fill_na(train_df)\n",
    "test_df_filled = fill_na(test_df)"
   ]
  },
  {
   "cell_type": "markdown",
   "metadata": {},
   "source": [
    "# Data Preprocessing & Feature Extraction"
   ]
  },
  {
   "cell_type": "code",
   "execution_count": 27,
   "metadata": {},
   "outputs": [],
   "source": [
    "def preprocessing(df):\n",
    "    \n",
    "    feat = df.copy()\n",
    "    \n",
    "    #DESC - drop it, change to length of desc\n",
    "    feat['length_desc'] = feat['desc'].apply(lambda x: len(str(x).strip().replace(' ','').replace('\\n','')))\n",
    "    feat = feat.drop('desc', axis=1)\n",
    "    #AD_ID - already dropped\n",
    "    \n",
    "    #LOCATION - do nothing here, wait for feature extraction\n",
    "    def sort_location(x):\n",
    "        if x not in ['กรุงเทพมหานคร', 'นนทบุรี', 'ชลบุรี', 'เชียงใหม่', 'ปทุมธานี','สมุทรปราการ', 'นครปฐม']:\n",
    "            x = 'Other City'\n",
    "        return x\n",
    "    feat['location'] = feat['location'].apply(lambda x: sort_location(x))\n",
    "    \n",
    "    #TIMESTAMP - change timestamp to datetime\n",
    "    feat['timestamp'] = feat['timestamp'].apply(lambda x: datetime.datetime.fromtimestamp(x))\n",
    "    \n",
    "    #MILEAGE - do nothing here, wait for feature extraction\n",
    "    def fix_mileage(x):\n",
    "        try:\n",
    "            x = int(x)\n",
    "        except:\n",
    "            x = -1\n",
    "        return x\n",
    "    feat['mileage'] = feat['mileage'].apply(lambda x: fix_mileage(x))\n",
    "#     scaler = RobustScaler()\n",
    "#     feat['mileage'] = scaler.fit_transform(feat['mileage'].values.reshape(-1,1))\n",
    "    \n",
    "    #BRAND - do nothing here, wait for feature extraction\n",
    "    \n",
    "    #MODEL - do nothing here, wait for feature extraction\n",
    "    \n",
    "    #YEAR - do nothing here, wait for feature extraction\n",
    "    def sort_year(x):\n",
    "        if x<2000:\n",
    "            x='before 2000s'\n",
    "        return str(x)\n",
    "    feat['year'] = feat['year'].apply(lambda x: sort_year(x))\n",
    "    \n",
    "    #FUEL - do nothing here, wait for feature extraction\n",
    "\n",
    "    #COLOR - do nothing here, wait for feature extraction\n",
    "            \n",
    "    #CAR_TYPE - do nothing here, wait for feature extraction\n",
    "    \n",
    "    return feat"
   ]
  },
  {
   "cell_type": "code",
   "execution_count": 28,
   "metadata": {},
   "outputs": [],
   "source": [
    "train_df_data = preprocessing(train_df_filled)\n",
    "test_df_data = preprocessing(test_df_filled)"
   ]
  },
  {
   "cell_type": "code",
   "execution_count": 29,
   "metadata": {
    "scrolled": false
   },
   "outputs": [
    {
     "data": {
      "text/html": [
       "<div>\n",
       "<style scoped>\n",
       "    .dataframe tbody tr th:only-of-type {\n",
       "        vertical-align: middle;\n",
       "    }\n",
       "\n",
       "    .dataframe tbody tr th {\n",
       "        vertical-align: top;\n",
       "    }\n",
       "\n",
       "    .dataframe thead th {\n",
       "        text-align: right;\n",
       "    }\n",
       "</style>\n",
       "<table border=\"1\" class=\"dataframe\">\n",
       "  <thead>\n",
       "    <tr style=\"text-align: right;\">\n",
       "      <th></th>\n",
       "      <th>price</th>\n",
       "      <th>ad_id</th>\n",
       "      <th>location</th>\n",
       "      <th>timestamp</th>\n",
       "      <th>mileage</th>\n",
       "      <th>brand</th>\n",
       "      <th>model</th>\n",
       "      <th>year</th>\n",
       "      <th>fuel</th>\n",
       "      <th>transmission</th>\n",
       "      <th>color</th>\n",
       "      <th>car_type</th>\n",
       "      <th>length_desc</th>\n",
       "    </tr>\n",
       "  </thead>\n",
       "  <tbody>\n",
       "    <tr>\n",
       "      <th>0</th>\n",
       "      <td>569000</td>\n",
       "      <td>354186401</td>\n",
       "      <td>กรุงเทพมหานคร</td>\n",
       "      <td>2020-03-18 15:50:55</td>\n",
       "      <td>5700</td>\n",
       "      <td>Mazda</td>\n",
       "      <td>Mazda2 Sport</td>\n",
       "      <td>2020</td>\n",
       "      <td>เบนซิน</td>\n",
       "      <td>เกียร์อัตโนมัติ</td>\n",
       "      <td>เทา</td>\n",
       "      <td>รถเก๋ง</td>\n",
       "      <td>426</td>\n",
       "    </tr>\n",
       "    <tr>\n",
       "      <th>1</th>\n",
       "      <td>1150000</td>\n",
       "      <td>356227846</td>\n",
       "      <td>กรุงเทพมหานคร</td>\n",
       "      <td>2020-06-01 21:23:07</td>\n",
       "      <td>1234</td>\n",
       "      <td>Chevrolet</td>\n",
       "      <td>รุ่นอื่นๆ</td>\n",
       "      <td>before 2000s</td>\n",
       "      <td>เบนซิน</td>\n",
       "      <td>เกียร์อัตโนมัติ</td>\n",
       "      <td>แดง</td>\n",
       "      <td>รถอื่น ๆ</td>\n",
       "      <td>115</td>\n",
       "    </tr>\n",
       "    <tr>\n",
       "      <th>2</th>\n",
       "      <td>799000</td>\n",
       "      <td>356055202</td>\n",
       "      <td>นนทบุรี</td>\n",
       "      <td>2020-05-26 21:17:22</td>\n",
       "      <td>100000</td>\n",
       "      <td>Mitsubishi</td>\n",
       "      <td>Pajero Sport</td>\n",
       "      <td>2016</td>\n",
       "      <td>ดีเซล</td>\n",
       "      <td>เกียร์อัตโนมัติ</td>\n",
       "      <td>ขาว</td>\n",
       "      <td>รถ MPV / SUV</td>\n",
       "      <td>599</td>\n",
       "    </tr>\n",
       "    <tr>\n",
       "      <th>3</th>\n",
       "      <td>429000</td>\n",
       "      <td>356169430</td>\n",
       "      <td>กรุงเทพมหานคร</td>\n",
       "      <td>2020-05-30 20:21:11</td>\n",
       "      <td>184921</td>\n",
       "      <td>Toyota</td>\n",
       "      <td>Camry</td>\n",
       "      <td>2010</td>\n",
       "      <td>ไฮบริด</td>\n",
       "      <td>เกียร์อัตโนมัติ</td>\n",
       "      <td>ดำ</td>\n",
       "      <td>รถเก๋ง</td>\n",
       "      <td>158</td>\n",
       "    </tr>\n",
       "    <tr>\n",
       "      <th>4</th>\n",
       "      <td>268000</td>\n",
       "      <td>354415016</td>\n",
       "      <td>กรุงเทพมหานคร</td>\n",
       "      <td>2020-03-30 12:39:45</td>\n",
       "      <td>103000</td>\n",
       "      <td>Nissan</td>\n",
       "      <td>Almera</td>\n",
       "      <td>2016</td>\n",
       "      <td>เบนซิน</td>\n",
       "      <td>เกียร์อัตโนมัติ</td>\n",
       "      <td>ขาว</td>\n",
       "      <td>รถเก๋ง</td>\n",
       "      <td>250</td>\n",
       "    </tr>\n",
       "  </tbody>\n",
       "</table>\n",
       "</div>"
      ],
      "text/plain": [
       "     price      ad_id       location           timestamp  mileage       brand  \\\n",
       "0   569000  354186401  กรุงเทพมหานคร 2020-03-18 15:50:55     5700       Mazda   \n",
       "1  1150000  356227846  กรุงเทพมหานคร 2020-06-01 21:23:07     1234   Chevrolet   \n",
       "2   799000  356055202        นนทบุรี 2020-05-26 21:17:22   100000  Mitsubishi   \n",
       "3   429000  356169430  กรุงเทพมหานคร 2020-05-30 20:21:11   184921      Toyota   \n",
       "4   268000  354415016  กรุงเทพมหานคร 2020-03-30 12:39:45   103000      Nissan   \n",
       "\n",
       "          model          year    fuel     transmission color      car_type  \\\n",
       "0  Mazda2 Sport          2020  เบนซิน  เกียร์อัตโนมัติ   เทา        รถเก๋ง   \n",
       "1     รุ่นอื่นๆ  before 2000s  เบนซิน  เกียร์อัตโนมัติ   แดง      รถอื่น ๆ   \n",
       "2  Pajero Sport          2016   ดีเซล  เกียร์อัตโนมัติ   ขาว  รถ MPV / SUV   \n",
       "3         Camry          2010  ไฮบริด  เกียร์อัตโนมัติ    ดำ        รถเก๋ง   \n",
       "4        Almera          2016  เบนซิน  เกียร์อัตโนมัติ   ขาว        รถเก๋ง   \n",
       "\n",
       "   length_desc  \n",
       "0          426  \n",
       "1          115  \n",
       "2          599  \n",
       "3          158  \n",
       "4          250  "
      ]
     },
     "execution_count": 29,
     "metadata": {},
     "output_type": "execute_result"
    }
   ],
   "source": [
    "train_df_data.head()"
   ]
  },
  {
   "cell_type": "code",
   "execution_count": 30,
   "metadata": {},
   "outputs": [],
   "source": [
    "def drop_columns(df):\n",
    "    drop_feat = df.copy()\n",
    "    drop_feat = drop_feat.drop(['ad_id','timestamp','model','color'], axis=1)\n",
    "    return drop_feat"
   ]
  },
  {
   "cell_type": "code",
   "execution_count": 31,
   "metadata": {},
   "outputs": [],
   "source": [
    "train_df_data_dropped = drop_columns(train_df_data)\n",
    "test_df_data_dropped = drop_columns(test_df_data)"
   ]
  },
  {
   "cell_type": "code",
   "execution_count": 32,
   "metadata": {},
   "outputs": [
    {
     "data": {
      "text/html": [
       "<div>\n",
       "<style scoped>\n",
       "    .dataframe tbody tr th:only-of-type {\n",
       "        vertical-align: middle;\n",
       "    }\n",
       "\n",
       "    .dataframe tbody tr th {\n",
       "        vertical-align: top;\n",
       "    }\n",
       "\n",
       "    .dataframe thead th {\n",
       "        text-align: right;\n",
       "    }\n",
       "</style>\n",
       "<table border=\"1\" class=\"dataframe\">\n",
       "  <thead>\n",
       "    <tr style=\"text-align: right;\">\n",
       "      <th></th>\n",
       "      <th>price</th>\n",
       "      <th>location</th>\n",
       "      <th>mileage</th>\n",
       "      <th>brand</th>\n",
       "      <th>year</th>\n",
       "      <th>fuel</th>\n",
       "      <th>transmission</th>\n",
       "      <th>car_type</th>\n",
       "      <th>length_desc</th>\n",
       "    </tr>\n",
       "  </thead>\n",
       "  <tbody>\n",
       "    <tr>\n",
       "      <th>0</th>\n",
       "      <td>569000</td>\n",
       "      <td>กรุงเทพมหานคร</td>\n",
       "      <td>5700</td>\n",
       "      <td>Mazda</td>\n",
       "      <td>2020</td>\n",
       "      <td>เบนซิน</td>\n",
       "      <td>เกียร์อัตโนมัติ</td>\n",
       "      <td>รถเก๋ง</td>\n",
       "      <td>426</td>\n",
       "    </tr>\n",
       "    <tr>\n",
       "      <th>1</th>\n",
       "      <td>1150000</td>\n",
       "      <td>กรุงเทพมหานคร</td>\n",
       "      <td>1234</td>\n",
       "      <td>Chevrolet</td>\n",
       "      <td>before 2000s</td>\n",
       "      <td>เบนซิน</td>\n",
       "      <td>เกียร์อัตโนมัติ</td>\n",
       "      <td>รถอื่น ๆ</td>\n",
       "      <td>115</td>\n",
       "    </tr>\n",
       "    <tr>\n",
       "      <th>2</th>\n",
       "      <td>799000</td>\n",
       "      <td>นนทบุรี</td>\n",
       "      <td>100000</td>\n",
       "      <td>Mitsubishi</td>\n",
       "      <td>2016</td>\n",
       "      <td>ดีเซล</td>\n",
       "      <td>เกียร์อัตโนมัติ</td>\n",
       "      <td>รถ MPV / SUV</td>\n",
       "      <td>599</td>\n",
       "    </tr>\n",
       "    <tr>\n",
       "      <th>3</th>\n",
       "      <td>429000</td>\n",
       "      <td>กรุงเทพมหานคร</td>\n",
       "      <td>184921</td>\n",
       "      <td>Toyota</td>\n",
       "      <td>2010</td>\n",
       "      <td>ไฮบริด</td>\n",
       "      <td>เกียร์อัตโนมัติ</td>\n",
       "      <td>รถเก๋ง</td>\n",
       "      <td>158</td>\n",
       "    </tr>\n",
       "    <tr>\n",
       "      <th>4</th>\n",
       "      <td>268000</td>\n",
       "      <td>กรุงเทพมหานคร</td>\n",
       "      <td>103000</td>\n",
       "      <td>Nissan</td>\n",
       "      <td>2016</td>\n",
       "      <td>เบนซิน</td>\n",
       "      <td>เกียร์อัตโนมัติ</td>\n",
       "      <td>รถเก๋ง</td>\n",
       "      <td>250</td>\n",
       "    </tr>\n",
       "    <tr>\n",
       "      <th>...</th>\n",
       "      <td>...</td>\n",
       "      <td>...</td>\n",
       "      <td>...</td>\n",
       "      <td>...</td>\n",
       "      <td>...</td>\n",
       "      <td>...</td>\n",
       "      <td>...</td>\n",
       "      <td>...</td>\n",
       "      <td>...</td>\n",
       "    </tr>\n",
       "    <tr>\n",
       "      <th>7098</th>\n",
       "      <td>1990000</td>\n",
       "      <td>กรุงเทพมหานคร</td>\n",
       "      <td>-1</td>\n",
       "      <td>Mercedes-Benz</td>\n",
       "      <td>2015</td>\n",
       "      <td>เบนซิน</td>\n",
       "      <td>เกียร์อัตโนมัติ</td>\n",
       "      <td>รถเก๋ง</td>\n",
       "      <td>88</td>\n",
       "    </tr>\n",
       "    <tr>\n",
       "      <th>7099</th>\n",
       "      <td>299000</td>\n",
       "      <td>กรุงเทพมหานคร</td>\n",
       "      <td>169376</td>\n",
       "      <td>Mitsubishi</td>\n",
       "      <td>2010</td>\n",
       "      <td>ดีเซล</td>\n",
       "      <td>เกียร์ธรรมดา</td>\n",
       "      <td>รถกระบะ</td>\n",
       "      <td>619</td>\n",
       "    </tr>\n",
       "    <tr>\n",
       "      <th>7100</th>\n",
       "      <td>1290000</td>\n",
       "      <td>กรุงเทพมหานคร</td>\n",
       "      <td>89000</td>\n",
       "      <td>BMW</td>\n",
       "      <td>2016</td>\n",
       "      <td>ดีเซล</td>\n",
       "      <td>เกียร์อัตโนมัติ</td>\n",
       "      <td>รถ MPV / SUV</td>\n",
       "      <td>175</td>\n",
       "    </tr>\n",
       "    <tr>\n",
       "      <th>7101</th>\n",
       "      <td>479000</td>\n",
       "      <td>สมุทรปราการ</td>\n",
       "      <td>-1</td>\n",
       "      <td>Honda</td>\n",
       "      <td>2016</td>\n",
       "      <td>เบนซิน</td>\n",
       "      <td>เกียร์อัตโนมัติ</td>\n",
       "      <td>รถ MPV / SUV</td>\n",
       "      <td>1525</td>\n",
       "    </tr>\n",
       "    <tr>\n",
       "      <th>7102</th>\n",
       "      <td>1238000</td>\n",
       "      <td>Other City</td>\n",
       "      <td>310000</td>\n",
       "      <td>Toyota</td>\n",
       "      <td>2015</td>\n",
       "      <td>ไฮบริด</td>\n",
       "      <td>เกียร์อัตโนมัติ</td>\n",
       "      <td>รถ MPV / SUV</td>\n",
       "      <td>408</td>\n",
       "    </tr>\n",
       "  </tbody>\n",
       "</table>\n",
       "<p>7103 rows × 9 columns</p>\n",
       "</div>"
      ],
      "text/plain": [
       "        price       location  mileage          brand          year    fuel  \\\n",
       "0      569000  กรุงเทพมหานคร     5700          Mazda          2020  เบนซิน   \n",
       "1     1150000  กรุงเทพมหานคร     1234      Chevrolet  before 2000s  เบนซิน   \n",
       "2      799000        นนทบุรี   100000     Mitsubishi          2016   ดีเซล   \n",
       "3      429000  กรุงเทพมหานคร   184921         Toyota          2010  ไฮบริด   \n",
       "4      268000  กรุงเทพมหานคร   103000         Nissan          2016  เบนซิน   \n",
       "...       ...            ...      ...            ...           ...     ...   \n",
       "7098  1990000  กรุงเทพมหานคร       -1  Mercedes-Benz          2015  เบนซิน   \n",
       "7099   299000  กรุงเทพมหานคร   169376     Mitsubishi          2010   ดีเซล   \n",
       "7100  1290000  กรุงเทพมหานคร    89000            BMW          2016   ดีเซล   \n",
       "7101   479000    สมุทรปราการ       -1          Honda          2016  เบนซิน   \n",
       "7102  1238000     Other City   310000         Toyota          2015  ไฮบริด   \n",
       "\n",
       "         transmission      car_type  length_desc  \n",
       "0     เกียร์อัตโนมัติ        รถเก๋ง          426  \n",
       "1     เกียร์อัตโนมัติ      รถอื่น ๆ          115  \n",
       "2     เกียร์อัตโนมัติ  รถ MPV / SUV          599  \n",
       "3     เกียร์อัตโนมัติ        รถเก๋ง          158  \n",
       "4     เกียร์อัตโนมัติ        รถเก๋ง          250  \n",
       "...               ...           ...          ...  \n",
       "7098  เกียร์อัตโนมัติ        รถเก๋ง           88  \n",
       "7099     เกียร์ธรรมดา       รถกระบะ          619  \n",
       "7100  เกียร์อัตโนมัติ  รถ MPV / SUV          175  \n",
       "7101  เกียร์อัตโนมัติ  รถ MPV / SUV         1525  \n",
       "7102  เกียร์อัตโนมัติ  รถ MPV / SUV          408  \n",
       "\n",
       "[7103 rows x 9 columns]"
      ]
     },
     "execution_count": 32,
     "metadata": {},
     "output_type": "execute_result"
    }
   ],
   "source": [
    "train_df_data_dropped"
   ]
  },
  {
   "cell_type": "code",
   "execution_count": 33,
   "metadata": {},
   "outputs": [],
   "source": [
    "def feature_engineer(df):\n",
    "    feat = df.copy()\n",
    "    cat_data = ['brand','transmission','car_type','year','location','transmission','car_type']\n",
    "    num_data = ['mileage', 'length_desc']\n",
    "    mlb = MultiLabelBinarizer() \n",
    "    fuel_col = pd.DataFrame(mlb.fit_transform(s.split(' + ') for s in feat['fuel']), columns=['fuel_1','fuel_2','fuel_3','fuel_4','fuel_5'])\n",
    "    feat = pd.concat([feat, fuel_col], axis=1).drop('fuel', axis=1)\n",
    "    feat = pd.get_dummies(feat, columns=cat_data)\n",
    "    return feat"
   ]
  },
  {
   "cell_type": "code",
   "execution_count": 34,
   "metadata": {},
   "outputs": [],
   "source": [
    "train_df_feature = feature_engineer(train_df_data_dropped)\n",
    "test_df_feature = feature_engineer(test_df_data_dropped)"
   ]
  },
  {
   "cell_type": "code",
   "execution_count": 35,
   "metadata": {},
   "outputs": [
    {
     "data": {
      "text/html": [
       "<div>\n",
       "<style scoped>\n",
       "    .dataframe tbody tr th:only-of-type {\n",
       "        vertical-align: middle;\n",
       "    }\n",
       "\n",
       "    .dataframe tbody tr th {\n",
       "        vertical-align: top;\n",
       "    }\n",
       "\n",
       "    .dataframe thead th {\n",
       "        text-align: right;\n",
       "    }\n",
       "</style>\n",
       "<table border=\"1\" class=\"dataframe\">\n",
       "  <thead>\n",
       "    <tr style=\"text-align: right;\">\n",
       "      <th></th>\n",
       "      <th>price</th>\n",
       "      <th>mileage</th>\n",
       "      <th>length_desc</th>\n",
       "      <th>fuel_1</th>\n",
       "      <th>fuel_2</th>\n",
       "      <th>fuel_3</th>\n",
       "      <th>fuel_4</th>\n",
       "      <th>fuel_5</th>\n",
       "      <th>brand_Audi</th>\n",
       "      <th>brand_BMW</th>\n",
       "      <th>...</th>\n",
       "      <th>location_สมุทรปราการ</th>\n",
       "      <th>location_เชียงใหม่</th>\n",
       "      <th>transmission_no data</th>\n",
       "      <th>transmission_เกียร์ธรรมดา</th>\n",
       "      <th>transmission_เกียร์อัตโนมัติ</th>\n",
       "      <th>car_type_รถ MPV / SUV</th>\n",
       "      <th>car_type_รถกระบะ</th>\n",
       "      <th>car_type_รถตู้</th>\n",
       "      <th>car_type_รถอื่น ๆ</th>\n",
       "      <th>car_type_รถเก๋ง</th>\n",
       "    </tr>\n",
       "  </thead>\n",
       "  <tbody>\n",
       "    <tr>\n",
       "      <th>0</th>\n",
       "      <td>569000</td>\n",
       "      <td>5700</td>\n",
       "      <td>426</td>\n",
       "      <td>0</td>\n",
       "      <td>0</td>\n",
       "      <td>0</td>\n",
       "      <td>1</td>\n",
       "      <td>0</td>\n",
       "      <td>0</td>\n",
       "      <td>0</td>\n",
       "      <td>...</td>\n",
       "      <td>0</td>\n",
       "      <td>0</td>\n",
       "      <td>0</td>\n",
       "      <td>0</td>\n",
       "      <td>1</td>\n",
       "      <td>0</td>\n",
       "      <td>0</td>\n",
       "      <td>0</td>\n",
       "      <td>0</td>\n",
       "      <td>1</td>\n",
       "    </tr>\n",
       "    <tr>\n",
       "      <th>1</th>\n",
       "      <td>1150000</td>\n",
       "      <td>1234</td>\n",
       "      <td>115</td>\n",
       "      <td>0</td>\n",
       "      <td>0</td>\n",
       "      <td>0</td>\n",
       "      <td>1</td>\n",
       "      <td>0</td>\n",
       "      <td>0</td>\n",
       "      <td>0</td>\n",
       "      <td>...</td>\n",
       "      <td>0</td>\n",
       "      <td>0</td>\n",
       "      <td>0</td>\n",
       "      <td>0</td>\n",
       "      <td>1</td>\n",
       "      <td>0</td>\n",
       "      <td>0</td>\n",
       "      <td>0</td>\n",
       "      <td>1</td>\n",
       "      <td>0</td>\n",
       "    </tr>\n",
       "    <tr>\n",
       "      <th>2</th>\n",
       "      <td>799000</td>\n",
       "      <td>100000</td>\n",
       "      <td>599</td>\n",
       "      <td>0</td>\n",
       "      <td>0</td>\n",
       "      <td>1</td>\n",
       "      <td>0</td>\n",
       "      <td>0</td>\n",
       "      <td>0</td>\n",
       "      <td>0</td>\n",
       "      <td>...</td>\n",
       "      <td>0</td>\n",
       "      <td>0</td>\n",
       "      <td>0</td>\n",
       "      <td>0</td>\n",
       "      <td>1</td>\n",
       "      <td>1</td>\n",
       "      <td>0</td>\n",
       "      <td>0</td>\n",
       "      <td>0</td>\n",
       "      <td>0</td>\n",
       "    </tr>\n",
       "    <tr>\n",
       "      <th>3</th>\n",
       "      <td>429000</td>\n",
       "      <td>184921</td>\n",
       "      <td>158</td>\n",
       "      <td>0</td>\n",
       "      <td>0</td>\n",
       "      <td>0</td>\n",
       "      <td>0</td>\n",
       "      <td>1</td>\n",
       "      <td>0</td>\n",
       "      <td>0</td>\n",
       "      <td>...</td>\n",
       "      <td>0</td>\n",
       "      <td>0</td>\n",
       "      <td>0</td>\n",
       "      <td>0</td>\n",
       "      <td>1</td>\n",
       "      <td>0</td>\n",
       "      <td>0</td>\n",
       "      <td>0</td>\n",
       "      <td>0</td>\n",
       "      <td>1</td>\n",
       "    </tr>\n",
       "    <tr>\n",
       "      <th>4</th>\n",
       "      <td>268000</td>\n",
       "      <td>103000</td>\n",
       "      <td>250</td>\n",
       "      <td>0</td>\n",
       "      <td>0</td>\n",
       "      <td>0</td>\n",
       "      <td>1</td>\n",
       "      <td>0</td>\n",
       "      <td>0</td>\n",
       "      <td>0</td>\n",
       "      <td>...</td>\n",
       "      <td>0</td>\n",
       "      <td>0</td>\n",
       "      <td>0</td>\n",
       "      <td>0</td>\n",
       "      <td>1</td>\n",
       "      <td>0</td>\n",
       "      <td>0</td>\n",
       "      <td>0</td>\n",
       "      <td>0</td>\n",
       "      <td>1</td>\n",
       "    </tr>\n",
       "    <tr>\n",
       "      <th>5</th>\n",
       "      <td>458000</td>\n",
       "      <td>-1</td>\n",
       "      <td>74</td>\n",
       "      <td>0</td>\n",
       "      <td>0</td>\n",
       "      <td>1</td>\n",
       "      <td>0</td>\n",
       "      <td>0</td>\n",
       "      <td>0</td>\n",
       "      <td>0</td>\n",
       "      <td>...</td>\n",
       "      <td>0</td>\n",
       "      <td>0</td>\n",
       "      <td>1</td>\n",
       "      <td>0</td>\n",
       "      <td>0</td>\n",
       "      <td>0</td>\n",
       "      <td>1</td>\n",
       "      <td>0</td>\n",
       "      <td>0</td>\n",
       "      <td>0</td>\n",
       "    </tr>\n",
       "    <tr>\n",
       "      <th>6</th>\n",
       "      <td>29500</td>\n",
       "      <td>-1</td>\n",
       "      <td>116</td>\n",
       "      <td>1</td>\n",
       "      <td>0</td>\n",
       "      <td>0</td>\n",
       "      <td>1</td>\n",
       "      <td>0</td>\n",
       "      <td>0</td>\n",
       "      <td>0</td>\n",
       "      <td>...</td>\n",
       "      <td>0</td>\n",
       "      <td>0</td>\n",
       "      <td>0</td>\n",
       "      <td>0</td>\n",
       "      <td>1</td>\n",
       "      <td>0</td>\n",
       "      <td>1</td>\n",
       "      <td>0</td>\n",
       "      <td>0</td>\n",
       "      <td>0</td>\n",
       "    </tr>\n",
       "    <tr>\n",
       "      <th>7</th>\n",
       "      <td>2990000</td>\n",
       "      <td>12000</td>\n",
       "      <td>330</td>\n",
       "      <td>0</td>\n",
       "      <td>0</td>\n",
       "      <td>0</td>\n",
       "      <td>1</td>\n",
       "      <td>0</td>\n",
       "      <td>0</td>\n",
       "      <td>0</td>\n",
       "      <td>...</td>\n",
       "      <td>0</td>\n",
       "      <td>0</td>\n",
       "      <td>0</td>\n",
       "      <td>0</td>\n",
       "      <td>1</td>\n",
       "      <td>0</td>\n",
       "      <td>0</td>\n",
       "      <td>0</td>\n",
       "      <td>0</td>\n",
       "      <td>1</td>\n",
       "    </tr>\n",
       "    <tr>\n",
       "      <th>8</th>\n",
       "      <td>459000</td>\n",
       "      <td>90000</td>\n",
       "      <td>358</td>\n",
       "      <td>0</td>\n",
       "      <td>0</td>\n",
       "      <td>0</td>\n",
       "      <td>1</td>\n",
       "      <td>0</td>\n",
       "      <td>0</td>\n",
       "      <td>0</td>\n",
       "      <td>...</td>\n",
       "      <td>0</td>\n",
       "      <td>0</td>\n",
       "      <td>0</td>\n",
       "      <td>0</td>\n",
       "      <td>1</td>\n",
       "      <td>0</td>\n",
       "      <td>0</td>\n",
       "      <td>0</td>\n",
       "      <td>0</td>\n",
       "      <td>1</td>\n",
       "    </tr>\n",
       "    <tr>\n",
       "      <th>9</th>\n",
       "      <td>165000</td>\n",
       "      <td>-1</td>\n",
       "      <td>920</td>\n",
       "      <td>0</td>\n",
       "      <td>0</td>\n",
       "      <td>0</td>\n",
       "      <td>1</td>\n",
       "      <td>0</td>\n",
       "      <td>0</td>\n",
       "      <td>0</td>\n",
       "      <td>...</td>\n",
       "      <td>0</td>\n",
       "      <td>0</td>\n",
       "      <td>0</td>\n",
       "      <td>0</td>\n",
       "      <td>1</td>\n",
       "      <td>0</td>\n",
       "      <td>0</td>\n",
       "      <td>0</td>\n",
       "      <td>0</td>\n",
       "      <td>1</td>\n",
       "    </tr>\n",
       "  </tbody>\n",
       "</table>\n",
       "<p>10 rows × 79 columns</p>\n",
       "</div>"
      ],
      "text/plain": [
       "     price  mileage  length_desc  fuel_1  fuel_2  fuel_3  fuel_4  fuel_5  \\\n",
       "0   569000     5700          426       0       0       0       1       0   \n",
       "1  1150000     1234          115       0       0       0       1       0   \n",
       "2   799000   100000          599       0       0       1       0       0   \n",
       "3   429000   184921          158       0       0       0       0       1   \n",
       "4   268000   103000          250       0       0       0       1       0   \n",
       "5   458000       -1           74       0       0       1       0       0   \n",
       "6    29500       -1          116       1       0       0       1       0   \n",
       "7  2990000    12000          330       0       0       0       1       0   \n",
       "8   459000    90000          358       0       0       0       1       0   \n",
       "9   165000       -1          920       0       0       0       1       0   \n",
       "\n",
       "   brand_Audi  brand_BMW  ...  location_สมุทรปราการ  location_เชียงใหม่  \\\n",
       "0           0          0  ...                     0                   0   \n",
       "1           0          0  ...                     0                   0   \n",
       "2           0          0  ...                     0                   0   \n",
       "3           0          0  ...                     0                   0   \n",
       "4           0          0  ...                     0                   0   \n",
       "5           0          0  ...                     0                   0   \n",
       "6           0          0  ...                     0                   0   \n",
       "7           0          0  ...                     0                   0   \n",
       "8           0          0  ...                     0                   0   \n",
       "9           0          0  ...                     0                   0   \n",
       "\n",
       "   transmission_no data  transmission_เกียร์ธรรมดา  \\\n",
       "0                     0                          0   \n",
       "1                     0                          0   \n",
       "2                     0                          0   \n",
       "3                     0                          0   \n",
       "4                     0                          0   \n",
       "5                     1                          0   \n",
       "6                     0                          0   \n",
       "7                     0                          0   \n",
       "8                     0                          0   \n",
       "9                     0                          0   \n",
       "\n",
       "   transmission_เกียร์อัตโนมัติ  car_type_รถ MPV / SUV  car_type_รถกระบะ  \\\n",
       "0                             1                      0                 0   \n",
       "1                             1                      0                 0   \n",
       "2                             1                      1                 0   \n",
       "3                             1                      0                 0   \n",
       "4                             1                      0                 0   \n",
       "5                             0                      0                 1   \n",
       "6                             1                      0                 1   \n",
       "7                             1                      0                 0   \n",
       "8                             1                      0                 0   \n",
       "9                             1                      0                 0   \n",
       "\n",
       "   car_type_รถตู้  car_type_รถอื่น ๆ  car_type_รถเก๋ง  \n",
       "0               0                  0                1  \n",
       "1               0                  1                0  \n",
       "2               0                  0                0  \n",
       "3               0                  0                1  \n",
       "4               0                  0                1  \n",
       "5               0                  0                0  \n",
       "6               0                  0                0  \n",
       "7               0                  0                1  \n",
       "8               0                  0                1  \n",
       "9               0                  0                1  \n",
       "\n",
       "[10 rows x 79 columns]"
      ]
     },
     "execution_count": 35,
     "metadata": {},
     "output_type": "execute_result"
    }
   ],
   "source": [
    "train_df_feature.head(10)"
   ]
  },
  {
   "cell_type": "markdown",
   "metadata": {},
   "source": [
    "# Train Model"
   ]
  },
  {
   "cell_type": "code",
   "execution_count": 42,
   "metadata": {},
   "outputs": [],
   "source": [
    "from sklearn.linear_model import LinearRegression\n",
    "from sklearn.metrics import mean_squared_error, r2_score\n",
    "from sklearn.ensemble import RandomForestRegressor\n",
    "from sklearn.ensemble import GradientBoostingRegressor"
   ]
  },
  {
   "cell_type": "code",
   "execution_count": 37,
   "metadata": {},
   "outputs": [],
   "source": [
    "def train_model(X_train, y_train, model):\n",
    "    model = model\n",
    "    model.fit(X_train, y_train)\n",
    "    return model"
   ]
  },
  {
   "cell_type": "code",
   "execution_count": 38,
   "metadata": {},
   "outputs": [],
   "source": [
    "def eval_acc(actual, prediction):\n",
    "    acc = mean_squared_error(actual, prediction)\n",
    "    acc2 = r2_score(actual, prediction)\n",
    "    print('RMSE :', np.sqrt(acc))\n",
    "    print('R-Squared: ', acc2)\n",
    "    return acc, acc2"
   ]
  },
  {
   "cell_type": "code",
   "execution_count": 39,
   "metadata": {},
   "outputs": [],
   "source": [
    "def pipeline(X_train, y_train, X_test, y_test, model):\n",
    "    model = train_model(X_train, y_train, model)\n",
    "    prediction = model.predict(X_test)\n",
    "    acc, acc2 = eval_acc(y_test, prediction)\n",
    "    return acc, acc2"
   ]
  },
  {
   "cell_type": "code",
   "execution_count": 44,
   "metadata": {
    "scrolled": true
   },
   "outputs": [
    {
     "name": "stdout",
     "output_type": "stream",
     "text": [
      "RMSE : 386626.9996446894\n",
      "R-Squared:  0.5979197518692028\n"
     ]
    },
    {
     "data": {
      "text/plain": [
       "(149480436854.25464, 0.5979197518692028)"
      ]
     },
     "execution_count": 44,
     "metadata": {},
     "output_type": "execute_result"
    }
   ],
   "source": [
    "X_train = train_df_feature.drop('price', axis=1)\n",
    "y_train = train_df_feature['price']\n",
    "X_test = test_df_feature.drop('price', axis=1)\n",
    "y_test = test_df_feature['price']\n",
    "pipeline(X_train, y_train, X_test, y_test, LinearRegression())"
   ]
  },
  {
   "cell_type": "code",
   "execution_count": null,
   "metadata": {},
   "outputs": [],
   "source": []
  }
 ],
 "metadata": {
  "kernelspec": {
   "display_name": "Python 3",
   "language": "python",
   "name": "python3"
  },
  "language_info": {
   "codemirror_mode": {
    "name": "ipython",
    "version": 3
   },
   "file_extension": ".py",
   "mimetype": "text/x-python",
   "name": "python",
   "nbconvert_exporter": "python",
   "pygments_lexer": "ipython3",
   "version": "3.7.6"
  }
 },
 "nbformat": 4,
 "nbformat_minor": 4
}
